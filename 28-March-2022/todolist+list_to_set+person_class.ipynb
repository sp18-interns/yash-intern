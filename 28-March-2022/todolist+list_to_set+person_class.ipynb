{
 "cells": [
  {
   "cell_type": "code",
   "execution_count": null,
   "id": "1c23591e",
   "metadata": {},
   "outputs": [
    {
     "name": "stdout",
     "output_type": "stream",
     "text": [
      "Welcome to your To Do List!!!\n",
      "\n",
      "How would you like to name your notes: Yah\n",
      "What would you like to do?\n",
      "1.Add something: \n",
      "2.Update Existing: \n",
      "3.Delete something: \n",
      "Please choose your choice(in no.s): 1\n",
      "Add: Abu\n",
      "1. Abu\n",
      "Do you want to do something more(y/n): n\n"
     ]
    }
   ],
   "source": [
    "#class Notes(Todolist):\n",
    "#     print('Welcome to your To Do List!!!\\n')\n",
    "#     input_title= input('How would you like to name your notes: ')\n",
    "#     title_list=[]   \n",
    "#     notes_list=[]\n",
    "#     x = TodoList(input_title)\n",
    "#     x.__str__(input_title)\n",
    "#     title_list.append(input_title)\n",
    "#     print(\"What would you like to do?\\n1.Add something: \\n2.Update Existing: \\n3.Delete something: \")\n",
    "#     input_choice= int(input('Please choose your choice(in no.s): '))\n",
    "#     while True:\n",
    "#         if input_choice==1:\n",
    "#             add_notes=input('Add: ')\n",
    "#             x.add(add_notes)\n",
    "#             x.print_list()\n",
    "#             TodoList.replay(x)\n",
    "            \n",
    "#         elif input_choice==2:\n",
    "#             update_notes_index=int(input('Choose which index you want to update: '))\n",
    "#             update = input('Type your updated note: ')\n",
    "            \n",
    "#             x.__setitem__(update_notes_index,update)\n",
    "#             x.print_list()\n",
    "#             TodoList.replay(x)\n",
    "#         elif input_choice==3:\n",
    "#             del_index= int(input('Choose which index you want to delete: '))                       \n",
    "#             x.__delitem__(del_index)\n",
    "#             x.print_list()\n",
    "#             TodoList.replay(x)\n",
    "#         else:\n",
    "#             if not TodoList.replay():\n",
    "#                 break\n",
    "\n",
    "\n",
    "\n",
    "\n",
    "\n",
    "\n",
    "\n",
    "\n",
    "\n",
    "import os\n",
    "\n",
    "\n",
    "\n",
    "class TodoList(object):\n",
    "\n",
    "    def __init__(self, title=None):\n",
    "        self.title = title\n",
    "        self.items = list()\n",
    "\n",
    "    def print_list(self, tdl=None):\n",
    "        if tdl is None:\n",
    "            tdl = range(len(self.items))\n",
    "\n",
    "        for i in tdl:\n",
    "            item = f\"{i+1}. {self.items[i]}\"\n",
    "            print(item)\n",
    "\n",
    "    def __str__(self, tdl=None):\n",
    "        return str(self.title)\n",
    "\n",
    "    def __len__(self):\n",
    "        return len(self.items)\n",
    "\n",
    "    def add(self, item):\n",
    "        self.items.append(item)\n",
    "\n",
    "    def __setitem__(self, key, update):\n",
    "        self.items[key] = update\n",
    "\n",
    "    def __delitem__(self, key):\n",
    "        del self.items[key]\n",
    "\n",
    "    def search(self, query):\n",
    "        return [i for i, item in enumerate(self.items) if query in item]\n",
    "    \n",
    "    def replay(self):\n",
    "        choice = input('Do you want to do something more(y/n): ')\n",
    "        if choice.capitalize()=='Y':\n",
    "            return True\n",
    "        elif choice.capitalize()=='N':\n",
    "            os._exit(0)\n",
    "            return False\n",
    "        \n",
    "        else:\n",
    "            while(choice.capitalize() !='Y' and choice.capitalize()!='N'):\n",
    "                \n",
    "                input('Sorry, Wrong Choice. Try again(y/n): ')\n",
    "    \n",
    "\n",
    "if __name__ == \"__main__\":\n",
    "    print('Welcome to your To Do List!!!\\n')\n",
    "    input_title= input('How would you like to name your notes: ')\n",
    "    title_list=[]   \n",
    "    notes_list=[]\n",
    "    x = TodoList(input_title)\n",
    "    x.__str__(input_title)\n",
    "    title_list.append(input_title)\n",
    "    print(\"What would you like to do?\\n1.Add something: \\n2.Update Existing: \\n3.Delete something: \")\n",
    "    input_choice= int(input('Please choose your choice(in no.s): '))\n",
    "    while True:\n",
    "        if input_choice==1:\n",
    "            add_notes=input('Add: ')\n",
    "            x.add(add_notes)\n",
    "            x.print_list()\n",
    "            x.replay()\n",
    "            \n",
    "        elif input_choice==2:\n",
    "            update_notes_index=int(input('Choose which index you want to update: '))\n",
    "            update = input('Type your updated note: ')\n",
    "            \n",
    "            x.__setitem__(update_notes_index,update)\n",
    "            x.print_list()\n",
    "            TodoList.replay(x)\n",
    "        elif input_choice==3:\n",
    "            del_index= int(input('Choose which index you want to delete: '))                       \n",
    "            x.__delitem__(del_index)\n",
    "            x.print_list()\n",
    "            TodoList.replay(x)\n",
    "        else:\n",
    "            if not TodoList.replay(x):\n",
    "                break\n",
    "\n",
    "\n",
    "\n",
    "    \n",
    "   "
   ]
  },
  {
   "cell_type": "code",
   "execution_count": 33,
   "id": "483c179b",
   "metadata": {},
   "outputs": [],
   "source": [
    "x.add(\"buy tomato\")"
   ]
  },
  {
   "cell_type": "code",
   "execution_count": 33,
   "id": "e97b1baf",
   "metadata": {},
   "outputs": [
    {
     "name": "stdout",
     "output_type": "stream",
     "text": [
      "2. buy tomato\n"
     ]
    }
   ],
   "source": [
    "x.print_list(x.search(\"tomato\"))"
   ]
  },
  {
   "cell_type": "code",
   "execution_count": 34,
   "id": "82d1025d",
   "metadata": {},
   "outputs": [
    {
     "name": "stdout",
     "output_type": "stream",
     "text": [
      "to\n"
     ]
    }
   ],
   "source": [
    "print(str(x))"
   ]
  },
  {
   "cell_type": "code",
   "execution_count": 35,
   "id": "8977400d",
   "metadata": {},
   "outputs": [
    {
     "name": "stdout",
     "output_type": "stream",
     "text": [
      "to\n"
     ]
    }
   ],
   "source": [
    "print(x)"
   ]
  },
  {
   "cell_type": "code",
   "execution_count": 36,
   "id": "12bd7b7b",
   "metadata": {},
   "outputs": [
    {
     "name": "stdout",
     "output_type": "stream",
     "text": [
      "1. try\n",
      "2. buy tomato\n"
     ]
    }
   ],
   "source": [
    "x.print_list()"
   ]
  },
  {
   "cell_type": "code",
   "execution_count": 37,
   "id": "e0f59389",
   "metadata": {},
   "outputs": [
    {
     "name": "stdout",
     "output_type": "stream",
     "text": [
      "1. try\n",
      "2. buy tomato\n",
      "3. Date with petite\n"
     ]
    }
   ],
   "source": [
    "x.add(\"Date with petite\")\n",
    "x.print_list()"
   ]
  },
  {
   "cell_type": "code",
   "execution_count": 38,
   "id": "f6aa5f13",
   "metadata": {},
   "outputs": [
    {
     "name": "stdout",
     "output_type": "stream",
     "text": [
      "1. try\n",
      "2. buy tomato\n"
     ]
    }
   ],
   "source": [
    "del x[2]\n",
    "x.print_list()"
   ]
  },
  {
   "cell_type": "code",
   "execution_count": 40,
   "id": "daeba3ab",
   "metadata": {},
   "outputs": [
    {
     "name": "stdout",
     "output_type": "stream",
     "text": [
      "1. one\n"
     ]
    }
   ],
   "source": [
    "x = TodoList(\"to\")\n",
    "x.add('one')\n",
    "x.print_list()"
   ]
  },
  {
   "cell_type": "code",
   "execution_count": 41,
   "id": "c3063583",
   "metadata": {},
   "outputs": [
    {
     "data": {
      "text/plain": [
       "['one']"
      ]
     },
     "execution_count": 41,
     "metadata": {},
     "output_type": "execute_result"
    }
   ],
   "source": [
    "x.items"
   ]
  },
  {
   "cell_type": "code",
   "execution_count": 26,
   "id": "6b4c2041",
   "metadata": {},
   "outputs": [
    {
     "name": "stdout",
     "output_type": "stream",
     "text": [
      "\n",
      "            To Do List menu\n",
      "            ===============\n",
      "\n",
      "            1. Show all Tasks \n",
      "            2. Search Tasks\n",
      "            3. Add Tasks\n",
      "            4. Delete Tasks\n",
      "            5. Quit\n",
      "\n",
      "            \n",
      "Enter an option5\n",
      "Thank you for using To-Do-List today\n"
     ]
    },
    {
     "ename": "NameError",
     "evalue": "name 'sys' is not defined",
     "output_type": "error",
     "traceback": [
      "\u001b[1;31m---------------------------------------------------------------------------\u001b[0m",
      "\u001b[1;31mNameError\u001b[0m                                 Traceback (most recent call last)",
      "Input \u001b[1;32mIn [26]\u001b[0m, in \u001b[0;36m<cell line: 136>\u001b[1;34m()\u001b[0m\n\u001b[0;32m    133\u001b[0m         sys\u001b[38;5;241m.\u001b[39mexit(\u001b[38;5;241m0\u001b[39m)\n\u001b[0;32m    136\u001b[0m \u001b[38;5;28;01mif\u001b[39;00m \u001b[38;5;18m__name__\u001b[39m \u001b[38;5;241m==\u001b[39m \u001b[38;5;124m\"\u001b[39m\u001b[38;5;124m__main__\u001b[39m\u001b[38;5;124m\"\u001b[39m:\n\u001b[1;32m--> 137\u001b[0m     \u001b[43mMenu\u001b[49m\u001b[43m(\u001b[49m\u001b[43m)\u001b[49m\u001b[38;5;241;43m.\u001b[39;49m\u001b[43mrun\u001b[49m\u001b[43m(\u001b[49m\u001b[43m)\u001b[49m\n",
      "Input \u001b[1;32mIn [26]\u001b[0m, in \u001b[0;36mMenu.run\u001b[1;34m(self)\u001b[0m\n\u001b[0;32m    103\u001b[0m action \u001b[38;5;241m=\u001b[39m \u001b[38;5;28mself\u001b[39m\u001b[38;5;241m.\u001b[39mchoices\u001b[38;5;241m.\u001b[39mget(choice)\n\u001b[0;32m    104\u001b[0m \u001b[38;5;28;01mif\u001b[39;00m action:\n\u001b[1;32m--> 105\u001b[0m     \u001b[43maction\u001b[49m\u001b[43m(\u001b[49m\u001b[43m)\u001b[49m\n\u001b[0;32m    106\u001b[0m \u001b[38;5;28;01melse\u001b[39;00m:\n\u001b[0;32m    107\u001b[0m     \u001b[38;5;28mprint\u001b[39m(\u001b[38;5;124m\"\u001b[39m\u001b[38;5;132;01m{0}\u001b[39;00m\u001b[38;5;124m is not a valid choice\u001b[39m\u001b[38;5;124m\"\u001b[39m\u001b[38;5;241m.\u001b[39mformat(choice))\n",
      "Input \u001b[1;32mIn [26]\u001b[0m, in \u001b[0;36mMenu.quit\u001b[1;34m(self)\u001b[0m\n\u001b[0;32m    131\u001b[0m \u001b[38;5;28;01mdef\u001b[39;00m \u001b[38;5;21mquit\u001b[39m(\u001b[38;5;28mself\u001b[39m):\n\u001b[0;32m    132\u001b[0m     \u001b[38;5;28mprint\u001b[39m(\u001b[38;5;124m\"\u001b[39m\u001b[38;5;124mThank you for using To-Do-List today\u001b[39m\u001b[38;5;124m\"\u001b[39m)\n\u001b[1;32m--> 133\u001b[0m     \u001b[43msys\u001b[49m\u001b[38;5;241m.\u001b[39mexit(\u001b[38;5;241m0\u001b[39m)\n",
      "\u001b[1;31mNameError\u001b[0m: name 'sys' is not defined"
     ]
    }
   ],
   "source": [
    "from datetime import datetime\n",
    "\n",
    "\n",
    "\"\"\"To Do List Programe\"\"\"\n",
    "\"\"\"Represent a Tasks in the To-DoList. \n",
    "match against a string in searches and store each\n",
    "tasks\"\"\"\n",
    "last_id = 0\n",
    "\n",
    "\n",
    "class Task:\n",
    "    def __init__(self, task_name, complete=\"\"):\n",
    "        self.task_name = task_name\n",
    "        self.complete = \"N\"\n",
    "        self.date_created = datetime.today().strftime('%d-%m-%y')\n",
    "        global last_id\n",
    "        last_id += 1\n",
    "        self.id = last_id\n",
    "\n",
    "    def match_task(self, filter):\n",
    "        \"\"\"Determine if this note matches the filter\n",
    "        text. Return True if it matches, False otherwise.\n",
    "        Search is not case sensitive and matches any word in the tasks. \"\"\"\n",
    "\n",
    "        return filter.lower() in self.task_name.lower()\n",
    "\n",
    "\n",
    "class ToDoList:\n",
    "    \"\"\"Represent a collection of tasks that \n",
    "    can be searched, modified and complete and deleted \"\"\"\n",
    "\n",
    "    def __init__(self):\n",
    "        self.tasks = []\n",
    "\n",
    "    def new_task(self, task_name, complete):\n",
    "        \"\"\"Create new task and add it to the list\"\"\"\n",
    "        self.tasks.append(Task(task_name, complete))\n",
    "\n",
    "    def _find_task(self, task_id):\n",
    "        \"\"\"locate the task with given id\"\"\"\n",
    "        for task_name in self.tasks:\n",
    "            if str(task_name.id) == str(task_name.id):\n",
    "                return task_name\n",
    "        return None\n",
    "\n",
    "    def modify_task(self, task_id, task_name):\n",
    "        task_name = self._find_task(task_id)\n",
    "        if task_name:\n",
    "            task_name.task_name = task_name\n",
    "            return True\n",
    "        return False\n",
    "\n",
    "    def delete_task(self, task_id, complete):\n",
    "        task = self._find_task(task_id)\n",
    "        if task:\n",
    "            task.complete = \"Y\"\n",
    "            return self.tasks.remove(task_id-1)\n",
    "        return False\n",
    "\n",
    "    def search(self, filter):\n",
    "        \"\"\"Find all task that match the given \n",
    "        fliter string \"\"\"\n",
    "        return [task for task in self.tasks if task.match(filter)]\n",
    "    \n",
    "\"\"\"Main File to Run the programe\"\"\"\n",
    "\n",
    "\n",
    "class Menu:\n",
    "    \"\"\"Display a menu and respond to choices when\n",
    "    run \"\"\"\n",
    "\n",
    "    def __init__(self):\n",
    "        self.toDoList = ToDoList()\n",
    "        self.choices = {\n",
    "            \"1\": self.show_tasks,\n",
    "            \"2\": self.search_tasks,\n",
    "            \"3\": self.add_tasks,\n",
    "            \"4\": self.delete_tasks,\n",
    "            \"5\": self.quit,\n",
    "        }\n",
    "\n",
    "    def display_menu(self):\n",
    "        print(\n",
    "            \"\"\"\n",
    "            To Do List menu\n",
    "            ===============\n",
    "\n",
    "            1. Show all Tasks \n",
    "            2. Search Tasks\n",
    "            3. Add Tasks\n",
    "            4. Delete Tasks\n",
    "            5. Quit\n",
    "\n",
    "            \"\"\"\n",
    "\n",
    "        )\n",
    "\n",
    "    def run(self):\n",
    "        \"\"\"Display the menu and repond to the choices\"\"\"\n",
    "        while True:\n",
    "            self.display_menu()\n",
    "            choice = input(\"Enter an option\")\n",
    "            action = self.choices.get(choice)\n",
    "            if action:\n",
    "                action()\n",
    "            else:\n",
    "                print(\"{0} is not a valid choice\".format(choice))\n",
    "\n",
    "    def show_tasks(self, tasks=None):\n",
    "        if not tasks:\n",
    "            tasks = self.toDoList.tasks\n",
    "        for task in tasks:\n",
    "            print(\"{0}: {1}\".format(task.id, task))\n",
    "\n",
    "    def search_tasks(self):\n",
    "        filter = input(\"Search tasks:\")\n",
    "        tasks = self.toDoList.search(filter)\n",
    "        self.show_tasks(tasks)\n",
    "\n",
    "    def add_tasks(self):\n",
    "        task_name = input(\"Enter a task:\")\n",
    "        self.toDoList.new_task(task_name, complete=\"N\")\n",
    "        print(\"Your task has been added:\")\n",
    "\n",
    "    def delete_tasks(self):\n",
    "        id = input(\"Enter a task id:\")\n",
    "        task = input(\"Enter task name:\")\n",
    "        if task:\n",
    "            self.toDoList.delete_task(id, task)\n",
    "\n",
    "    def quit(self):\n",
    "        print(\"Thank you for using To-Do-List today\")\n",
    "        sys.exit(0)\n",
    "\n",
    "\n",
    "if __name__ == \"__main__\":\n",
    "    Menu().run()\n",
    "    "
   ]
  },
  {
   "cell_type": "code",
   "execution_count": 8,
   "id": "ccd266d9",
   "metadata": {},
   "outputs": [
    {
     "name": "stdout",
     "output_type": "stream",
     "text": [
      "{1, 2, 3, 4, 5, 6, 7}\n"
     ]
    }
   ],
   "source": [
    "list_1=[1,2,3,4,5,6,6,7,5,4,2]\n",
    "unique_elements={*list_1}\n",
    "print(unique_elements)"
   ]
  },
  {
   "cell_type": "code",
   "execution_count": 19,
   "id": "e9638c00",
   "metadata": {},
   "outputs": [
    {
     "name": "stdout",
     "output_type": "stream",
     "text": [
      "{1, 2, 3, 4, 5, 6, 7}\n"
     ]
    }
   ],
   "source": [
    "#Using Dict Comprehension\n",
    "set1 = {x for x in list_1}\n",
    "print(set1)"
   ]
  },
  {
   "cell_type": "code",
   "execution_count": 6,
   "id": "9bf1c29b",
   "metadata": {},
   "outputs": [
    {
     "name": "stdout",
     "output_type": "stream",
     "text": [
      "{1, 2, 3, 4, 5, 6, 7}\n"
     ]
    }
   ],
   "source": [
    "#Using for loop and empty set\n",
    "list1=[1,2,3,4,5,6,6,7,5,4,2]\n",
    "unique_elements=set()\n",
    "for x in list_1:\n",
    "     unique_elements.add(x)\n",
    "print(unique_elements)        "
   ]
  },
  {
   "cell_type": "code",
   "execution_count": 46,
   "id": "845d3d16",
   "metadata": {},
   "outputs": [
    {
     "name": "stdout",
     "output_type": "stream",
     "text": [
      "{9: 'abc', 2: 'abc', 3: 'abc', 4: 'abc', 5: 'abc', 6: 'abc', 7: 'abc'}\n"
     ]
    }
   ],
   "source": [
    "#Using dict.fromkeys() and empty set\n",
    "list1=[9,2,3,4,5,6,6,7,5,4,2]\n",
    "unique= dict.fromkeys(list1,'abc')\n",
    "print(unique)\n",
    "# unique1={*unique}\n",
    "# print(unique1)"
   ]
  },
  {
   "cell_type": "code",
   "execution_count": 32,
   "id": "8d3980c8",
   "metadata": {},
   "outputs": [
    {
     "name": "stdout",
     "output_type": "stream",
     "text": [
      "None\n"
     ]
    }
   ],
   "source": [
    "#Testing the assignment mistake of using in-place methods on a list\n",
    "list1=list1.sort()\n",
    "#list2.sort()\n",
    "print(list1)"
   ]
  },
  {
   "cell_type": "code",
   "execution_count": 42,
   "id": "8a012d84",
   "metadata": {},
   "outputs": [
    {
     "name": "stdout",
     "output_type": "stream",
     "text": [
      "{1: 2, 2: 5, 6: 7}\n"
     ]
    }
   ],
   "source": [
    "#List to dictionary using dict comprehension\n",
    "list1=[1,2,2,5,6,7]\n",
    "\n",
    "set1={list1[x]:list1[x+1] for x in range(0,len(list1),2)}\n",
    "print(set1)"
   ]
  },
  {
   "cell_type": "code",
   "execution_count": 50,
   "id": "0af5a1e7",
   "metadata": {},
   "outputs": [
    {
     "name": "stdout",
     "output_type": "stream",
     "text": [
      "{'a': 1, 'b': 2, 'c': 3}\n"
     ]
    }
   ],
   "source": [
    "# Doubt in understanding the flow of this code\n",
    "def Convert(a):\n",
    "    it = iter(a)\n",
    "    res_dct = dict(zip(it, it))\n",
    "    return res_dct\n",
    "         \n",
    "# Driver code\n",
    "lst = ['a', 1, 'b', 2, 'c', 3]\n",
    "print(Convert(lst))"
   ]
  },
  {
   "cell_type": "code",
   "execution_count": 66,
   "id": "4abd8c6b",
   "metadata": {},
   "outputs": [],
   "source": [
    "from datetime import date\n",
    "\n",
    "class Person:\n",
    "    def __init__(self,first_name,last_name,date_of_birth):\n",
    "        self.first_name= first_name\n",
    "        self.last_name=last_name\n",
    "        self.date_of_birth=date_of_birth\n",
    "    \n",
    "    \n",
    "\n",
    "    def Calculate_Age(self):\n",
    "        today = date.today()\n",
    "        self.age= today.year - (self.date_of_birth).year - ((today.month, today.day) < ((self.date_of_birth).month, (self.date_of_birth).day))\n",
    "        return self.age\n",
    "    \n",
    "class Sort_Person(Person):\n",
    "    \n",
    "    def Sort_By_First_Name_Ascending(self):\n",
    "        return sorted(self.first_name)\n",
    "    \n",
    "    def Sort_By_Last_Name_Ascending(self):\n",
    "        return sorted(self.last_name)\n",
    "    \n",
    "    def Sort_By_First_Name_Descending(self):\n",
    "        return sorted(self.first_name,reverse=True)\n",
    "    \n",
    "    def Sort_By_Last_Name_Descending(self):\n",
    "        return sorted(self.last_name,reverse=True)\n",
    "    \n",
    "    def Sort_By_Age_Ascending(self):\n",
    "        return sorted(Person.Calculate_Age())\n",
    "    \n",
    "    def Sort_By_Age_Descending(self):\n",
    "        return sorted(Person.Calculate_Age(),reverse=True)"
   ]
  },
  {
   "cell_type": "code",
   "execution_count": 71,
   "id": "747658e9",
   "metadata": {},
   "outputs": [
    {
     "data": {
      "text/plain": [
       "['a', 'h', 'i', 'm', 'r', 's']"
      ]
     },
     "execution_count": 71,
     "metadata": {},
     "output_type": "execute_result"
    }
   ],
   "source": [
    "p = Sort_Person('yash','mishra',1991)\n",
    "\n",
    "p.Sort_By_Last_Name_Ascending()"
   ]
  },
  {
   "cell_type": "code",
   "execution_count": 72,
   "id": "0c000bd8",
   "metadata": {},
   "outputs": [
    {
     "ename": "AttributeError",
     "evalue": "'int' object has no attribute 'year'",
     "output_type": "error",
     "traceback": [
      "\u001b[1;31m---------------------------------------------------------------------------\u001b[0m",
      "\u001b[1;31mAttributeError\u001b[0m                            Traceback (most recent call last)",
      "Input \u001b[1;32mIn [72]\u001b[0m, in \u001b[0;36m<cell line: 1>\u001b[1;34m()\u001b[0m\n\u001b[1;32m----> 1\u001b[0m \u001b[43mp\u001b[49m\u001b[38;5;241;43m.\u001b[39;49m\u001b[43mCalculate_Age\u001b[49m\u001b[43m(\u001b[49m\u001b[43m)\u001b[49m\n",
      "Input \u001b[1;32mIn [66]\u001b[0m, in \u001b[0;36mPerson.Calculate_Age\u001b[1;34m(self)\u001b[0m\n\u001b[0;32m     11\u001b[0m \u001b[38;5;28;01mdef\u001b[39;00m \u001b[38;5;21mCalculate_Age\u001b[39m(\u001b[38;5;28mself\u001b[39m):\n\u001b[0;32m     12\u001b[0m     today \u001b[38;5;241m=\u001b[39m date\u001b[38;5;241m.\u001b[39mtoday()\n\u001b[1;32m---> 13\u001b[0m     \u001b[38;5;28mself\u001b[39m\u001b[38;5;241m.\u001b[39mage\u001b[38;5;241m=\u001b[39m today\u001b[38;5;241m.\u001b[39myear \u001b[38;5;241m-\u001b[39m \u001b[43m(\u001b[49m\u001b[38;5;28;43mself\u001b[39;49m\u001b[38;5;241;43m.\u001b[39;49m\u001b[43mdate_of_birth\u001b[49m\u001b[43m)\u001b[49m\u001b[38;5;241;43m.\u001b[39;49m\u001b[43myear\u001b[49m \u001b[38;5;241m-\u001b[39m ((today\u001b[38;5;241m.\u001b[39mmonth, today\u001b[38;5;241m.\u001b[39mday) \u001b[38;5;241m<\u001b[39m ((\u001b[38;5;28mself\u001b[39m\u001b[38;5;241m.\u001b[39mdate_of_birth)\u001b[38;5;241m.\u001b[39mmonth, (\u001b[38;5;28mself\u001b[39m\u001b[38;5;241m.\u001b[39mdate_of_birth)\u001b[38;5;241m.\u001b[39mday))\n\u001b[0;32m     14\u001b[0m     \u001b[38;5;28;01mreturn\u001b[39;00m \u001b[38;5;28mself\u001b[39m\u001b[38;5;241m.\u001b[39mage\n",
      "\u001b[1;31mAttributeError\u001b[0m: 'int' object has no attribute 'year'"
     ]
    }
   ],
   "source": [
    "p.Calculate_Age()"
   ]
  },
  {
   "cell_type": "code",
   "execution_count": null,
   "id": "44a32ce3",
   "metadata": {},
   "outputs": [],
   "source": []
  },
  {
   "cell_type": "code",
   "execution_count": null,
   "id": "23bf409d",
   "metadata": {},
   "outputs": [],
   "source": []
  }
 ],
 "metadata": {
  "kernelspec": {
   "display_name": "Python 3 (ipykernel)",
   "language": "python",
   "name": "python3"
  },
  "language_info": {
   "codemirror_mode": {
    "name": "ipython",
    "version": 3
   },
   "file_extension": ".py",
   "mimetype": "text/x-python",
   "name": "python",
   "nbconvert_exporter": "python",
   "pygments_lexer": "ipython3",
   "version": "3.10.4"
  }
 },
 "nbformat": 4,
 "nbformat_minor": 5
}
