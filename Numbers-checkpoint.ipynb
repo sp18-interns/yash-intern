{
 "cells": [
  {
   "cell_type": "code",
   "execution_count": 1,
   "id": "9c4e4249",
   "metadata": {},
   "outputs": [
    {
     "data": {
      "text/plain": [
       "5"
      ]
     },
     "execution_count": 1,
     "metadata": {},
     "output_type": "execute_result"
    }
   ],
   "source": [
    "2+3"
   ]
  },
  {
   "cell_type": "code",
   "execution_count": 2,
   "id": "48b6e869",
   "metadata": {},
   "outputs": [
    {
     "data": {
      "text/plain": [
       "3"
      ]
     },
     "execution_count": 2,
     "metadata": {},
     "output_type": "execute_result"
    }
   ],
   "source": [
    "3%5"
   ]
  },
  {
   "cell_type": "code",
   "execution_count": 3,
   "id": "9e3e8dfb",
   "metadata": {},
   "outputs": [
    {
     "data": {
      "text/plain": [
       "45"
      ]
     },
     "execution_count": 3,
     "metadata": {},
     "output_type": "execute_result"
    }
   ],
   "source": [
    "(92-47)%76"
   ]
  },
  {
   "cell_type": "code",
   "execution_count": 2,
   "id": "1e3cfa57",
   "metadata": {},
   "outputs": [],
   "source": [
    "a=5"
   ]
  },
  {
   "cell_type": "code",
   "execution_count": 3,
   "id": "5f7cf541",
   "metadata": {},
   "outputs": [
    {
     "data": {
      "text/plain": [
       "5"
      ]
     },
     "execution_count": 3,
     "metadata": {},
     "output_type": "execute_result"
    }
   ],
   "source": [
    "a"
   ]
  },
  {
   "cell_type": "code",
   "execution_count": 6,
   "id": "1312aa0a",
   "metadata": {},
   "outputs": [],
   "source": [
    "a=25"
   ]
  },
  {
   "cell_type": "code",
   "execution_count": 7,
   "id": "31c58638",
   "metadata": {},
   "outputs": [
    {
     "data": {
      "text/plain": [
       "25"
      ]
     },
     "execution_count": 7,
     "metadata": {},
     "output_type": "execute_result"
    }
   ],
   "source": [
    "a"
   ]
  },
  {
   "cell_type": "code",
   "execution_count": 13,
   "id": "77e4cadf",
   "metadata": {},
   "outputs": [],
   "source": [
    "a=a+a"
   ]
  },
  {
   "cell_type": "code",
   "execution_count": 14,
   "id": "7ed93dfb",
   "metadata": {},
   "outputs": [
    {
     "data": {
      "text/plain": [
       "400"
      ]
     },
     "execution_count": 14,
     "metadata": {},
     "output_type": "execute_result"
    }
   ],
   "source": [
    "a"
   ]
  },
  {
   "cell_type": "code",
   "execution_count": 15,
   "id": "8644840e",
   "metadata": {},
   "outputs": [
    {
     "data": {
      "text/plain": [
       "int"
      ]
     },
     "execution_count": 15,
     "metadata": {},
     "output_type": "execute_result"
    }
   ],
   "source": [
    "type(a)"
   ]
  },
  {
   "cell_type": "code",
   "execution_count": 16,
   "id": "3a7e91e0",
   "metadata": {},
   "outputs": [],
   "source": [
    "a=8.9"
   ]
  },
  {
   "cell_type": "code",
   "execution_count": 17,
   "id": "0ba1e8a7",
   "metadata": {},
   "outputs": [
    {
     "data": {
      "text/plain": [
       "float"
      ]
     },
     "execution_count": 17,
     "metadata": {},
     "output_type": "execute_result"
    }
   ],
   "source": [
    "type(a)"
   ]
  },
  {
   "cell_type": "code",
   "execution_count": 1,
   "id": "979da809",
   "metadata": {},
   "outputs": [
    {
     "ename": "NameError",
     "evalue": "name 'a' is not defined",
     "output_type": "error",
     "traceback": [
      "\u001b[0;31m---------------------------------------------------------------------------\u001b[0m",
      "\u001b[0;31mNameError\u001b[0m                                 Traceback (most recent call last)",
      "\u001b[0;32m/var/folders/z7/gjk96zv5593_fh1s2tld_glh0000gp/T/ipykernel_25173/2167009006.py\u001b[0m in \u001b[0;36m<module>\u001b[0;34m\u001b[0m\n\u001b[0;32m----> 1\u001b[0;31m \u001b[0ma\u001b[0m\u001b[0;34m\u001b[0m\u001b[0;34m\u001b[0m\u001b[0m\n\u001b[0m",
      "\u001b[0;31mNameError\u001b[0m: name 'a' is not defined"
     ]
    }
   ],
   "source": [
    "a"
   ]
  },
  {
   "cell_type": "code",
   "execution_count": 4,
   "id": "3e0e71c2",
   "metadata": {},
   "outputs": [
    {
     "data": {
      "text/plain": [
       "1.5"
      ]
     },
     "execution_count": 4,
     "metadata": {},
     "output_type": "execute_result"
    }
   ],
   "source": [
    "3/2"
   ]
  },
  {
   "cell_type": "code",
   "execution_count": 5,
   "id": "3e0bab39",
   "metadata": {},
   "outputs": [
    {
     "data": {
      "text/plain": [
       "'hello'"
      ]
     },
     "execution_count": 5,
     "metadata": {},
     "output_type": "execute_result"
    }
   ],
   "source": [
    "'hello'"
   ]
  },
  {
   "cell_type": "code",
   "execution_count": 6,
   "id": "fcbea1d3",
   "metadata": {},
   "outputs": [
    {
     "data": {
      "text/plain": [
       "'hello'"
      ]
     },
     "execution_count": 6,
     "metadata": {},
     "output_type": "execute_result"
    }
   ],
   "source": [
    "\"hello\""
   ]
  },
  {
   "cell_type": "code",
   "execution_count": 7,
   "id": "c4074ece",
   "metadata": {},
   "outputs": [
    {
     "data": {
      "text/plain": [
       "'Hello'"
      ]
     },
     "execution_count": 7,
     "metadata": {},
     "output_type": "execute_result"
    }
   ],
   "source": [
    "\"Hello\""
   ]
  },
  {
   "cell_type": "code",
   "execution_count": 8,
   "id": "b67fafc6",
   "metadata": {},
   "outputs": [
    {
     "ename": "SyntaxError",
     "evalue": "invalid syntax (3910679670.py, line 1)",
     "output_type": "error",
     "traceback": [
      "\u001b[0;36m  File \u001b[0;32m\"/var/folders/z7/gjk96zv5593_fh1s2tld_glh0000gp/T/ipykernel_25173/3910679670.py\"\u001b[0;36m, line \u001b[0;32m1\u001b[0m\n\u001b[0;31m    'i'm going on a run''\u001b[0m\n\u001b[0m       ^\u001b[0m\n\u001b[0;31mSyntaxError\u001b[0m\u001b[0;31m:\u001b[0m invalid syntax\n"
     ]
    }
   ],
   "source": [
    "'i'm going on a run''"
   ]
  },
  {
   "cell_type": "code",
   "execution_count": 9,
   "id": "f823231f",
   "metadata": {},
   "outputs": [
    {
     "data": {
      "text/plain": [
       "\"I'm going on a run\""
      ]
     },
     "execution_count": 9,
     "metadata": {},
     "output_type": "execute_result"
    }
   ],
   "source": [
    "\"I'm going on a run\""
   ]
  },
  {
   "cell_type": "code",
   "execution_count": 10,
   "id": "7098d22c",
   "metadata": {},
   "outputs": [
    {
     "ename": "SyntaxError",
     "evalue": "invalid syntax (2056856654.py, line 1)",
     "output_type": "error",
     "traceback": [
      "\u001b[0;36m  File \u001b[0;32m\"/var/folders/z7/gjk96zv5593_fh1s2tld_glh0000gp/T/ipykernel_25173/2056856654.py\"\u001b[0;36m, line \u001b[0;32m1\u001b[0m\n\u001b[0;31m    len('I'am)\u001b[0m\n\u001b[0m           ^\u001b[0m\n\u001b[0;31mSyntaxError\u001b[0m\u001b[0;31m:\u001b[0m invalid syntax\n"
     ]
    }
   ],
   "source": [
    "len('I'am)"
   ]
  },
  {
   "cell_type": "code",
   "execution_count": 11,
   "id": "79351210",
   "metadata": {},
   "outputs": [
    {
     "data": {
      "text/plain": [
       "4"
      ]
     },
     "execution_count": 11,
     "metadata": {},
     "output_type": "execute_result"
    }
   ],
   "source": [
    "len(\"I'am\")"
   ]
  },
  {
   "cell_type": "code",
   "execution_count": 12,
   "id": "07c07fa1",
   "metadata": {},
   "outputs": [
    {
     "data": {
      "text/plain": [
       "5"
      ]
     },
     "execution_count": 12,
     "metadata": {},
     "output_type": "execute_result"
    }
   ],
   "source": [
    "len(\"I' am\")"
   ]
  },
  {
   "cell_type": "code",
   "execution_count": 13,
   "id": "968331f6",
   "metadata": {},
   "outputs": [
    {
     "name": "stdout",
     "output_type": "stream",
     "text": [
      "Hello World\n"
     ]
    }
   ],
   "source": [
    "print(\"Hello World\")"
   ]
  },
  {
   "cell_type": "code",
   "execution_count": 17,
   "id": "8099f671",
   "metadata": {},
   "outputs": [
    {
     "ename": "SyntaxError",
     "evalue": "invalid syntax (2366441225.py, line 1)",
     "output_type": "error",
     "traceback": [
      "\u001b[0;36m  File \u001b[0;32m\"/var/folders/z7/gjk96zv5593_fh1s2tld_glh0000gp/T/ipykernel_25173/2366441225.py\"\u001b[0;36m, line \u001b[0;32m1\u001b[0m\n\u001b[0;31m    print(\"/\"Hello World\"/\")\u001b[0m\n\u001b[0m             ^\u001b[0m\n\u001b[0;31mSyntaxError\u001b[0m\u001b[0;31m:\u001b[0m invalid syntax\n"
     ]
    }
   ],
   "source": [
    "print(\"/\"Hello World\"/\")"
   ]
  },
  {
   "cell_type": "code",
   "execution_count": 15,
   "id": "a27badce",
   "metadata": {},
   "outputs": [
    {
     "data": {
      "text/plain": [
       "'Hello World'"
      ]
     },
     "execution_count": 15,
     "metadata": {},
     "output_type": "execute_result"
    }
   ],
   "source": [
    "\"Hello World\""
   ]
  },
  {
   "cell_type": "code",
   "execution_count": 123,
   "id": "cbf2d6ee",
   "metadata": {},
   "outputs": [],
   "source": [
    "mystring=\"hello world\""
   ]
  },
  {
   "cell_type": "code",
   "execution_count": 128,
   "id": "cfe59c58",
   "metadata": {},
   "outputs": [
    {
     "data": {
      "text/plain": [
       "3"
      ]
     },
     "execution_count": 128,
     "metadata": {},
     "output_type": "execute_result"
    }
   ],
   "source": [
    "mystring.count('l')"
   ]
  },
  {
   "cell_type": "code",
   "execution_count": 20,
   "id": "a8f438ba",
   "metadata": {},
   "outputs": [
    {
     "data": {
      "text/plain": [
       "' '"
      ]
     },
     "execution_count": 20,
     "metadata": {},
     "output_type": "execute_result"
    }
   ],
   "source": [
    "mystring[-6]"
   ]
  },
  {
   "cell_type": "code",
   "execution_count": 35,
   "id": "d023b3ea",
   "metadata": {},
   "outputs": [
    {
     "data": {
      "text/plain": [
       "'lo l'"
      ]
     },
     "execution_count": 35,
     "metadata": {},
     "output_type": "execute_result"
    }
   ],
   "source": [
    "mystring[-2:-10:-2]"
   ]
  },
  {
   "cell_type": "code",
   "execution_count": 36,
   "id": "e200e636",
   "metadata": {},
   "outputs": [],
   "source": [
    "letter='z'"
   ]
  },
  {
   "cell_type": "code",
   "execution_count": 37,
   "id": "b1e28c89",
   "metadata": {},
   "outputs": [
    {
     "data": {
      "text/plain": [
       "'zzzzzzzzzz'"
      ]
     },
     "execution_count": 37,
     "metadata": {},
     "output_type": "execute_result"
    }
   ],
   "source": [
    "10*letter"
   ]
  },
  {
   "cell_type": "code",
   "execution_count": 38,
   "id": "4b56a26d",
   "metadata": {},
   "outputs": [],
   "source": [
    "x=10"
   ]
  },
  {
   "cell_type": "code",
   "execution_count": 39,
   "id": "74314d52",
   "metadata": {},
   "outputs": [
    {
     "ename": "TypeError",
     "evalue": "to_bytes() missing required argument 'length' (pos 1)",
     "output_type": "error",
     "traceback": [
      "\u001b[0;31m---------------------------------------------------------------------------\u001b[0m",
      "\u001b[0;31mTypeError\u001b[0m                                 Traceback (most recent call last)",
      "\u001b[0;32m/var/folders/z7/gjk96zv5593_fh1s2tld_glh0000gp/T/ipykernel_25173/2670808314.py\u001b[0m in \u001b[0;36m<module>\u001b[0;34m\u001b[0m\n\u001b[0;32m----> 1\u001b[0;31m \u001b[0mx\u001b[0m\u001b[0;34m.\u001b[0m\u001b[0mto_bytes\u001b[0m\u001b[0;34m(\u001b[0m\u001b[0;34m)\u001b[0m\u001b[0;34m\u001b[0m\u001b[0;34m\u001b[0m\u001b[0m\n\u001b[0m",
      "\u001b[0;31mTypeError\u001b[0m: to_bytes() missing required argument 'length' (pos 1)"
     ]
    }
   ],
   "source": [
    "x.to_bytes()"
   ]
  },
  {
   "cell_type": "code",
   "execution_count": 40,
   "id": "827e048a",
   "metadata": {},
   "outputs": [
    {
     "data": {
      "text/plain": [
       "'Z'"
      ]
     },
     "execution_count": 40,
     "metadata": {},
     "output_type": "execute_result"
    }
   ],
   "source": [
    "letter.upper()"
   ]
  },
  {
   "cell_type": "code",
   "execution_count": 41,
   "id": "bccbb635",
   "metadata": {},
   "outputs": [
    {
     "data": {
      "text/plain": [
       "['z']"
      ]
     },
     "execution_count": 41,
     "metadata": {},
     "output_type": "execute_result"
    }
   ],
   "source": [
    "letter.split()"
   ]
  },
  {
   "cell_type": "code",
   "execution_count": 42,
   "id": "0ccddba9",
   "metadata": {},
   "outputs": [],
   "source": [
    "y=2.33"
   ]
  },
  {
   "cell_type": "code",
   "execution_count": 43,
   "id": "a1360c20",
   "metadata": {},
   "outputs": [
    {
     "data": {
      "text/plain": [
       "(1311673391471657, 562949953421312)"
      ]
     },
     "execution_count": 43,
     "metadata": {},
     "output_type": "execute_result"
    }
   ],
   "source": [
    "y.as_integer_ratio()"
   ]
  },
  {
   "cell_type": "code",
   "execution_count": 44,
   "id": "f53c2675",
   "metadata": {},
   "outputs": [
    {
     "data": {
      "text/plain": [
       "False"
      ]
     },
     "execution_count": 44,
     "metadata": {},
     "output_type": "execute_result"
    }
   ],
   "source": [
    "y.is_integer()"
   ]
  },
  {
   "cell_type": "code",
   "execution_count": 45,
   "id": "5dbde649",
   "metadata": {},
   "outputs": [
    {
     "ename": "TypeError",
     "evalue": "'int' object is not callable",
     "output_type": "error",
     "traceback": [
      "\u001b[0;31m---------------------------------------------------------------------------\u001b[0m",
      "\u001b[0;31mTypeError\u001b[0m                                 Traceback (most recent call last)",
      "\u001b[0;32m/var/folders/z7/gjk96zv5593_fh1s2tld_glh0000gp/T/ipykernel_25173/2306738282.py\u001b[0m in \u001b[0;36m<module>\u001b[0;34m\u001b[0m\n\u001b[0;32m----> 1\u001b[0;31m \u001b[0mx\u001b[0m\u001b[0;34m.\u001b[0m\u001b[0mdenominator\u001b[0m\u001b[0;34m(\u001b[0m\u001b[0;34m)\u001b[0m\u001b[0;34m\u001b[0m\u001b[0;34m\u001b[0m\u001b[0m\n\u001b[0m",
      "\u001b[0;31mTypeError\u001b[0m: 'int' object is not callable"
     ]
    }
   ],
   "source": [
    "x.denominator()"
   ]
  },
  {
   "cell_type": "code",
   "execution_count": 46,
   "id": "76e7430b",
   "metadata": {},
   "outputs": [
    {
     "data": {
      "text/plain": [
       "(10, 1)"
      ]
     },
     "execution_count": 46,
     "metadata": {},
     "output_type": "execute_result"
    }
   ],
   "source": [
    "x.as_integer_ratio()"
   ]
  },
  {
   "cell_type": "code",
   "execution_count": 52,
   "id": "a680a01e",
   "metadata": {},
   "outputs": [
    {
     "name": "stdout",
     "output_type": "stream",
     "text": [
      "my name is yash mishra\n"
     ]
    }
   ],
   "source": [
    "print('my name is {y} {m}'.format(y='yash',m='mishra'))"
   ]
  },
  {
   "cell_type": "code",
   "execution_count": 53,
   "id": "5f21c38a",
   "metadata": {},
   "outputs": [],
   "source": [
    "re=267/7"
   ]
  },
  {
   "cell_type": "code",
   "execution_count": 54,
   "id": "9da816e5",
   "metadata": {},
   "outputs": [
    {
     "data": {
      "text/plain": [
       "38.142857142857146"
      ]
     },
     "execution_count": 54,
     "metadata": {},
     "output_type": "execute_result"
    }
   ],
   "source": [
    "re"
   ]
  },
  {
   "cell_type": "code",
   "execution_count": 62,
   "id": "a4108632",
   "metadata": {},
   "outputs": [
    {
     "name": "stdout",
     "output_type": "stream",
     "text": [
      "the result is                                  38.1429\n"
     ]
    }
   ],
   "source": [
    "print('the result is {r1:40.4f}'.format(r1=re))"
   ]
  },
  {
   "cell_type": "code",
   "execution_count": 63,
   "id": "8b037564",
   "metadata": {},
   "outputs": [
    {
     "data": {
      "text/plain": [
       "'Python rules!'"
      ]
     },
     "execution_count": 63,
     "metadata": {},
     "output_type": "execute_result"
    }
   ],
   "source": [
    "('{} {}{}'.format('Python','rules','!'))"
   ]
  },
  {
   "cell_type": "code",
   "execution_count": 66,
   "id": "d09bb3dc",
   "metadata": {},
   "outputs": [],
   "source": [
    "a='Python'\n",
    "b='rules'\n",
    "c='!'\n"
   ]
  },
  {
   "cell_type": "code",
   "execution_count": 68,
   "id": "9fbaebe9",
   "metadata": {},
   "outputs": [
    {
     "data": {
      "text/plain": [
       "'Python rules!'"
      ]
     },
     "execution_count": 68,
     "metadata": {},
     "output_type": "execute_result"
    }
   ],
   "source": [
    "(f'{a} {b}{c}')"
   ]
  },
  {
   "cell_type": "code",
   "execution_count": 77,
   "id": "3d54dee8",
   "metadata": {},
   "outputs": [
    {
     "data": {
      "text/plain": [
       "[150, 100, 50]"
      ]
     },
     "execution_count": 77,
     "metadata": {},
     "output_type": "execute_result"
    }
   ],
   "source": [
    "numbers=[3,2,1]\n",
    "newlist = [x*50 for x in numbers]\n",
    "newlist"
   ]
  },
  {
   "cell_type": "code",
   "execution_count": 78,
   "id": "b44202e9",
   "metadata": {},
   "outputs": [],
   "source": [
    "myset=set()"
   ]
  },
  {
   "cell_type": "code",
   "execution_count": 73,
   "id": "d865fb4d",
   "metadata": {},
   "outputs": [
    {
     "data": {
      "text/plain": [
       "30"
      ]
     },
     "execution_count": 73,
     "metadata": {},
     "output_type": "execute_result"
    }
   ],
   "source": [
    "a[0][1][2]"
   ]
  },
  {
   "cell_type": "code",
   "execution_count": 79,
   "id": "62a4a7b0",
   "metadata": {},
   "outputs": [],
   "source": [
    "myset.add(1)"
   ]
  },
  {
   "cell_type": "code",
   "execution_count": 80,
   "id": "812d2b34",
   "metadata": {},
   "outputs": [
    {
     "data": {
      "text/plain": [
       "{1}"
      ]
     },
     "execution_count": 80,
     "metadata": {},
     "output_type": "execute_result"
    }
   ],
   "source": [
    "myset"
   ]
  },
  {
   "cell_type": "code",
   "execution_count": 104,
   "id": "176c71fe",
   "metadata": {},
   "outputs": [],
   "source": [
    "mylist=[3,3,22,2,33,2,1]\n",
    "mylist.reverse()\n",
    "lis_var= mylist.reverse()"
   ]
  },
  {
   "cell_type": "code",
   "execution_count": 105,
   "id": "c0b81dcd",
   "metadata": {},
   "outputs": [
    {
     "data": {
      "text/plain": [
       "NoneType"
      ]
     },
     "execution_count": 105,
     "metadata": {},
     "output_type": "execute_result"
    }
   ],
   "source": [
    "type(lis_var)"
   ]
  },
  {
   "cell_type": "code",
   "execution_count": 106,
   "id": "85658380",
   "metadata": {},
   "outputs": [],
   "source": [
    "lis_var"
   ]
  },
  {
   "cell_type": "code",
   "execution_count": 107,
   "id": "249de64f",
   "metadata": {},
   "outputs": [
    {
     "data": {
      "text/plain": [
       "bool"
      ]
     },
     "execution_count": 107,
     "metadata": {},
     "output_type": "execute_result"
    }
   ],
   "source": [
    "type(True)"
   ]
  },
  {
   "cell_type": "code",
   "execution_count": 108,
   "id": "c463f2d6",
   "metadata": {},
   "outputs": [],
   "source": [
    "None"
   ]
  },
  {
   "cell_type": "code",
   "execution_count": 109,
   "id": "0a176bc2",
   "metadata": {},
   "outputs": [
    {
     "data": {
      "text/plain": [
       "False"
      ]
     },
     "execution_count": 109,
     "metadata": {},
     "output_type": "execute_result"
    }
   ],
   "source": [
    "1>2"
   ]
  },
  {
   "cell_type": "code",
   "execution_count": 110,
   "id": "4dca0627",
   "metadata": {},
   "outputs": [
    {
     "data": {
      "text/plain": [
       "True"
      ]
     },
     "execution_count": 110,
     "metadata": {},
     "output_type": "execute_result"
    }
   ],
   "source": [
    "25==25"
   ]
  },
  {
   "cell_type": "code",
   "execution_count": 111,
   "id": "c478f4f7",
   "metadata": {},
   "outputs": [
    {
     "data": {
      "text/plain": [
       "'/Users/kunal.saxena/Desktop'"
      ]
     },
     "execution_count": 111,
     "metadata": {},
     "output_type": "execute_result"
    }
   ],
   "source": [
    "pwd\n"
   ]
  },
  {
   "cell_type": "code",
   "execution_count": 167,
   "id": "77d4d782",
   "metadata": {},
   "outputs": [
    {
     "name": "stdout",
     "output_type": "stream",
     "text": [
      "Overwriting myfile.txt\n"
     ]
    }
   ],
   "source": [
    "%%writefile myfile.txt \n",
    "hi\n",
    "kya chal raha hai"
   ]
  },
  {
   "cell_type": "code",
   "execution_count": 168,
   "id": "cbb3b56c",
   "metadata": {},
   "outputs": [],
   "source": [
    "file=open('myfile.txt')#in open function,the file name must be in strings"
   ]
  },
  {
   "cell_type": "code",
   "execution_count": 122,
   "id": "87c3bba7",
   "metadata": {},
   "outputs": [
    {
     "data": {
      "text/plain": [
       "'hi\\nkya chal raha hai\\n'"
      ]
     },
     "execution_count": 122,
     "metadata": {},
     "output_type": "execute_result"
    }
   ],
   "source": [
    "file.read()"
   ]
  },
  {
   "cell_type": "code",
   "execution_count": 172,
   "id": "1748153f",
   "metadata": {},
   "outputs": [
    {
     "data": {
      "text/plain": [
       "_io.TextIOWrapper"
      ]
     },
     "execution_count": 172,
     "metadata": {},
     "output_type": "execute_result"
    }
   ],
   "source": [
    "type(file)"
   ]
  },
  {
   "cell_type": "code",
   "execution_count": 130,
   "id": "49bfc1ba",
   "metadata": {},
   "outputs": [],
   "source": [
    "#there is blank space because the cursor moved to the end of the text file,thus it needs to be seek back to the opening position"
   ]
  },
  {
   "cell_type": "code",
   "execution_count": 132,
   "id": "facb637b",
   "metadata": {},
   "outputs": [
    {
     "data": {
      "text/plain": [
       "0"
      ]
     },
     "execution_count": 132,
     "metadata": {},
     "output_type": "execute_result"
    }
   ],
   "source": [
    "file.seek(0)"
   ]
  },
  {
   "cell_type": "code",
   "execution_count": 133,
   "id": "6befc19e",
   "metadata": {},
   "outputs": [
    {
     "data": {
      "text/plain": [
       "'hi\\nkya chal raha hai\\n'"
      ]
     },
     "execution_count": 133,
     "metadata": {},
     "output_type": "execute_result"
    }
   ],
   "source": [
    "file.read()"
   ]
  },
  {
   "cell_type": "code",
   "execution_count": 134,
   "id": "4bd146c3",
   "metadata": {},
   "outputs": [
    {
     "data": {
      "text/plain": [
       "0"
      ]
     },
     "execution_count": 134,
     "metadata": {},
     "output_type": "execute_result"
    }
   ],
   "source": [
    "file.seek(0)"
   ]
  },
  {
   "cell_type": "code",
   "execution_count": 138,
   "id": "082f2814",
   "metadata": {},
   "outputs": [
    {
     "data": {
      "text/plain": [
       "['hi\\n', 'kya chal raha hai\\n']"
      ]
     },
     "execution_count": 138,
     "metadata": {},
     "output_type": "execute_result"
    }
   ],
   "source": [
    "file.readlines()"
   ]
  },
  {
   "cell_type": "code",
   "execution_count": 136,
   "id": "cada67ab",
   "metadata": {},
   "outputs": [
    {
     "data": {
      "text/plain": [
       "''"
      ]
     },
     "execution_count": 136,
     "metadata": {},
     "output_type": "execute_result"
    }
   ],
   "source": [
    "file.readline()"
   ]
  },
  {
   "cell_type": "code",
   "execution_count": 137,
   "id": "0375b611",
   "metadata": {},
   "outputs": [
    {
     "data": {
      "text/plain": [
       "0"
      ]
     },
     "execution_count": 137,
     "metadata": {},
     "output_type": "execute_result"
    }
   ],
   "source": [
    "file.seek(0)"
   ]
  },
  {
   "cell_type": "code",
   "execution_count": 139,
   "id": "45706b91",
   "metadata": {},
   "outputs": [
    {
     "data": {
      "text/plain": [
       "''"
      ]
     },
     "execution_count": 139,
     "metadata": {},
     "output_type": "execute_result"
    }
   ],
   "source": [
    "file.readline()"
   ]
  },
  {
   "cell_type": "code",
   "execution_count": 145,
   "id": "9bd33f6f",
   "metadata": {},
   "outputs": [
    {
     "data": {
      "text/plain": [
       "0"
      ]
     },
     "execution_count": 145,
     "metadata": {},
     "output_type": "execute_result"
    }
   ],
   "source": [
    "file.seek(0)"
   ]
  },
  {
   "cell_type": "code",
   "execution_count": 185,
   "id": "484ffd0f",
   "metadata": {},
   "outputs": [
    {
     "data": {
      "text/plain": [
       "['hi\\n', 'kya chal raha hai\\n']"
      ]
     },
     "execution_count": 185,
     "metadata": {},
     "output_type": "execute_result"
    }
   ],
   "source": [
    "file.readlines()"
   ]
  },
  {
   "cell_type": "code",
   "execution_count": 186,
   "id": "a2acf55d",
   "metadata": {},
   "outputs": [
    {
     "data": {
      "text/plain": [
       "0"
      ]
     },
     "execution_count": 186,
     "metadata": {},
     "output_type": "execute_result"
    }
   ],
   "source": [
    "file.seek(0)"
   ]
  },
  {
   "cell_type": "code",
   "execution_count": 187,
   "id": "0ec75d63",
   "metadata": {},
   "outputs": [
    {
     "data": {
      "text/plain": [
       "['hi\\n', 'kya chal raha hai\\n']"
      ]
     },
     "execution_count": 187,
     "metadata": {},
     "output_type": "execute_result"
    }
   ],
   "source": [
    "contents=file.readlines()\n",
    "contents"
   ]
  },
  {
   "cell_type": "code",
   "execution_count": 188,
   "id": "8cd6a47c",
   "metadata": {},
   "outputs": [],
   "source": [
    "#for opening files located anywhere on the computer  other than the notebook or script location,\n",
    "#for windows the format is open(\"C;\\\\users\\\\...\") \\\\ is used instead of \\ to not confuse python\n",
    "#to interpret the character followed by \\ to be an escape character"
   ]
  },
  {
   "cell_type": "code",
   "execution_count": 189,
   "id": "9d57a7c7",
   "metadata": {},
   "outputs": [],
   "source": [
    "#for macos and linux / (forward slash) is used, so python Won’t get confused"
   ]
  },
  {
   "cell_type": "code",
   "execution_count": 184,
   "id": "1ec8c8b2",
   "metadata": {},
   "outputs": [
    {
     "data": {
      "text/plain": [
       "_io.TextIOWrapper"
      ]
     },
     "execution_count": 184,
     "metadata": {},
     "output_type": "execute_result"
    }
   ],
   "source": [
    "type(file)"
   ]
  },
  {
   "cell_type": "code",
   "execution_count": 182,
   "id": "63e28a39",
   "metadata": {},
   "outputs": [
    {
     "data": {
      "text/plain": [
       "0"
      ]
     },
     "execution_count": 182,
     "metadata": {},
     "output_type": "execute_result"
    }
   ],
   "source": [
    "file.seek(0)"
   ]
  },
  {
   "cell_type": "code",
   "execution_count": 183,
   "id": "421661cc",
   "metadata": {},
   "outputs": [
    {
     "data": {
      "text/plain": [
       "[]"
      ]
     },
     "execution_count": 183,
     "metadata": {},
     "output_type": "execute_result"
    }
   ],
   "source": [
    "contents"
   ]
  },
  {
   "cell_type": "code",
   "execution_count": 190,
   "id": "de3938be",
   "metadata": {},
   "outputs": [],
   "source": [
    "#to not get any errors,we need to close the open file,like below"
   ]
  },
  {
   "cell_type": "code",
   "execution_count": 148,
   "id": "eadd1027",
   "metadata": {},
   "outputs": [],
   "source": [
    "file.close()"
   ]
  },
  {
   "cell_type": "code",
   "execution_count": 191,
   "id": "8d92acda",
   "metadata": {},
   "outputs": [],
   "source": [
    "#to not worry about closing the file like above,we need to do this in below"
   ]
  },
  {
   "cell_type": "code",
   "execution_count": 212,
   "id": "20f95943",
   "metadata": {},
   "outputs": [],
   "source": [
    "with open('myfile.txt') as my_newfile:\n",
    "    contents = my_newfile.read()\n",
    "    contents"
   ]
  },
  {
   "cell_type": "code",
   "execution_count": 214,
   "id": "842128e4",
   "metadata": {},
   "outputs": [
    {
     "data": {
      "text/plain": [
       "str"
      ]
     },
     "execution_count": 214,
     "metadata": {},
     "output_type": "execute_result"
    }
   ],
   "source": [
    "type(contents)"
   ]
  },
  {
   "cell_type": "code",
   "execution_count": 215,
   "id": "8ca66e5f",
   "metadata": {},
   "outputs": [
    {
     "data": {
      "text/plain": [
       "_io.TextIOWrapper"
      ]
     },
     "execution_count": 215,
     "metadata": {},
     "output_type": "execute_result"
    }
   ],
   "source": [
    "type(my_newfile)"
   ]
  },
  {
   "cell_type": "code",
   "execution_count": 175,
   "id": "43475b7d",
   "metadata": {},
   "outputs": [
    {
     "data": {
      "text/plain": [
       "'/Users/kunal.saxena/Desktop'"
      ]
     },
     "execution_count": 175,
     "metadata": {},
     "output_type": "execute_result"
    }
   ],
   "source": [
    "pwd"
   ]
  },
  {
   "cell_type": "code",
   "execution_count": 178,
   "id": "0a59c8c6",
   "metadata": {},
   "outputs": [],
   "source": [
    "#this directory is currently where the current notebook is located"
   ]
  },
  {
   "cell_type": "code",
   "execution_count": 176,
   "id": "858c92a8",
   "metadata": {},
   "outputs": [
    {
     "data": {
      "text/plain": [
       "'hi\\nkya chal raha hai\\n'"
      ]
     },
     "execution_count": 176,
     "metadata": {},
     "output_type": "execute_result"
    }
   ],
   "source": [
    "file.read()"
   ]
  },
  {
   "cell_type": "code",
   "execution_count": 194,
   "id": "7c543e3d",
   "metadata": {},
   "outputs": [],
   "source": [
    "with open('myfile.txt', 'r', encoding = 'utf-8') as my_new:\n",
    "    contents=my_new.read()"
   ]
  },
  {
   "cell_type": "code",
   "execution_count": 195,
   "id": "8593190a",
   "metadata": {},
   "outputs": [],
   "source": [
    "#Indentation refers to the spaces at the beginning of a code line.\n",
    "#Where in other programming languages the indentation in code is for readability only, the indentation in Python is \n",
    "#very important. Python uses indentation to indicate a block of code."
   ]
  },
  {
   "cell_type": "code",
   "execution_count": 196,
   "id": "80503a93",
   "metadata": {},
   "outputs": [
    {
     "data": {
      "text/plain": [
       "'hi\\nkya chal raha hai\\n'"
      ]
     },
     "execution_count": 196,
     "metadata": {},
     "output_type": "execute_result"
    }
   ],
   "source": [
    "contents"
   ]
  },
  {
   "cell_type": "code",
   "execution_count": 163,
   "id": "141d21d1",
   "metadata": {},
   "outputs": [
    {
     "data": {
      "text/plain": [
       "list"
      ]
     },
     "execution_count": 163,
     "metadata": {},
     "output_type": "execute_result"
    }
   ],
   "source": [
    "type(contents)"
   ]
  },
  {
   "cell_type": "code",
   "execution_count": 164,
   "id": "b7a1adcb",
   "metadata": {},
   "outputs": [
    {
     "data": {
      "text/plain": [
       "_io.TextIOWrapper"
      ]
     },
     "execution_count": 164,
     "metadata": {},
     "output_type": "execute_result"
    }
   ],
   "source": [
    "type(my_new)"
   ]
  },
  {
   "cell_type": "code",
   "execution_count": 197,
   "id": "c151b0b6",
   "metadata": {},
   "outputs": [],
   "source": [
    "file=open('test.txt','w')"
   ]
  },
  {
   "cell_type": "code",
   "execution_count": 198,
   "id": "42ba65bc",
   "metadata": {},
   "outputs": [
    {
     "data": {
      "text/plain": [
       "15"
      ]
     },
     "execution_count": 198,
     "metadata": {},
     "output_type": "execute_result"
    }
   ],
   "source": [
    "file.write('My name is Yash')"
   ]
  },
  {
   "cell_type": "code",
   "execution_count": 199,
   "id": "c9badd19",
   "metadata": {},
   "outputs": [],
   "source": [
    "file.close()"
   ]
  },
  {
   "cell_type": "code",
   "execution_count": 200,
   "id": "5b13728d",
   "metadata": {},
   "outputs": [
    {
     "ename": "ValueError",
     "evalue": "I/O operation on closed file.",
     "output_type": "error",
     "traceback": [
      "\u001b[0;31m---------------------------------------------------------------------------\u001b[0m",
      "\u001b[0;31mValueError\u001b[0m                                Traceback (most recent call last)",
      "\u001b[0;32m/var/folders/z7/gjk96zv5593_fh1s2tld_glh0000gp/T/ipykernel_25173/1407933502.py\u001b[0m in \u001b[0;36m<module>\u001b[0;34m\u001b[0m\n\u001b[0;32m----> 1\u001b[0;31m \u001b[0mfile\u001b[0m\u001b[0;34m.\u001b[0m\u001b[0mread\u001b[0m\u001b[0;34m(\u001b[0m\u001b[0;34m)\u001b[0m\u001b[0;34m\u001b[0m\u001b[0;34m\u001b[0m\u001b[0m\n\u001b[0m",
      "\u001b[0;31mValueError\u001b[0m: I/O operation on closed file."
     ]
    }
   ],
   "source": [
    "file.read()"
   ]
  },
  {
   "cell_type": "code",
   "execution_count": 201,
   "id": "eca32d9d",
   "metadata": {},
   "outputs": [
    {
     "data": {
      "text/plain": [
       "'My name is Yash'"
      ]
     },
     "execution_count": 201,
     "metadata": {},
     "output_type": "execute_result"
    }
   ],
   "source": [
    "file=open('test.txt')\n",
    "file.read()"
   ]
  },
  {
   "cell_type": "code",
   "execution_count": 211,
   "id": "70e8bde3",
   "metadata": {},
   "outputs": [
    {
     "data": {
      "text/plain": [
       "'ll'"
      ]
     },
     "execution_count": 211,
     "metadata": {},
     "output_type": "execute_result"
    }
   ],
   "source": [
    "a='hello'\n",
    "a[-2:1:-1]"
   ]
  },
  {
   "cell_type": "code",
   "execution_count": 1,
   "id": "d3491d3d",
   "metadata": {},
   "outputs": [
    {
     "name": "stdout",
     "output_type": "stream",
     "text": [
      "ITS TRUE!\n"
     ]
    }
   ],
   "source": [
    "if True:\n",
    "    print('ITS TRUE!')"
   ]
  },
  {
   "cell_type": "code",
   "execution_count": 4,
   "id": "c6e39669",
   "metadata": {},
   "outputs": [
    {
     "name": "stdout",
     "output_type": "stream",
     "text": [
      "not hungry\n"
     ]
    }
   ],
   "source": [
    "hungry=False\n",
    "if hungry:\n",
    "    print('Feed me')\n",
    "else:    \n",
    "    print('not hungry')"
   ]
  },
  {
   "cell_type": "code",
   "execution_count": 2,
   "id": "8f84836b",
   "metadata": {},
   "outputs": [
    {
     "ename": "TypeError",
     "evalue": "'str' object does not support item assignment",
     "output_type": "error",
     "traceback": [
      "\u001b[1;31m---------------------------------------------------------------------------\u001b[0m",
      "\u001b[1;31mTypeError\u001b[0m                                 Traceback (most recent call last)",
      "Input \u001b[1;32mIn [2]\u001b[0m, in \u001b[0;36m<cell line: 2>\u001b[1;34m()\u001b[0m\n\u001b[0;32m      1\u001b[0m yash\u001b[38;5;241m=\u001b[39m\u001b[38;5;124m'\u001b[39m\u001b[38;5;124mYASH\u001b[39m\u001b[38;5;124m'\u001b[39m\n\u001b[1;32m----> 2\u001b[0m \u001b[38;5;28;01mfor\u001b[39;00m i[\u001b[38;5;241m-\u001b[39m\u001b[38;5;241m1\u001b[39m] \u001b[38;5;129;01min\u001b[39;00m yash:\n\u001b[0;32m      3\u001b[0m     \u001b[38;5;28mprint\u001b[39m(i)\n",
      "\u001b[1;31mTypeError\u001b[0m: 'str' object does not support item assignment"
     ]
    }
   ],
   "source": [
    "yash='YASH'\n",
    "for i[-1] in yash:\n",
    "    print(i)"
   ]
  },
  {
   "cell_type": "code",
   "execution_count": null,
   "id": "c88056e0",
   "metadata": {},
   "outputs": [],
   "source": []
  }
 ],
 "metadata": {
  "kernelspec": {
   "display_name": "Python 3 (ipykernel)",
   "language": "python",
   "name": "python3"
  },
  "language_info": {
   "codemirror_mode": {
    "name": "ipython",
    "version": 3
   },
   "file_extension": ".py",
   "mimetype": "text/x-python",
   "name": "python",
   "nbconvert_exporter": "python",
   "pygments_lexer": "ipython3",
   "version": "3.10.2"
  }
 },
 "nbformat": 4,
 "nbformat_minor": 5
}
