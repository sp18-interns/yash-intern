{
 "cells": [
  {
   "cell_type": "code",
   "execution_count": 92,
   "id": "7dc2785f",
   "metadata": {},
   "outputs": [],
   "source": [
    "class Shape:\n",
    "    def __init__(self):\n",
    "        pass\n",
    "        # self.area=area\n",
    "        # self.perimeter=perimeter\n",
    "    def Area(self):\n",
    "        return \"You have not slected anything\"\n",
    "    def Perimeter(self):\n",
    "        return \"You have not slected anything\""
   ]
  },
  {
   "cell_type": "code",
   "execution_count": 93,
   "id": "91e394c0",
   "metadata": {},
   "outputs": [],
   "source": [
    "import math\n",
    "\n",
    "class Circle(Shape):\n",
    "    \n",
    "    def __init__(self,radius=1):\n",
    "        self.radius= radius\n",
    "    def setradius(self,new_radius):\n",
    "        self.radius=new_radius\n",
    "    def Perimeter(self):\n",
    "        return 2*math.pi*(self.radius)\n",
    "        #return self.perimeter\n",
    "    def Area(self):\n",
    "        return math.pi*(self.radius**2)\n",
    "        #return self.area\n",
    "            \n",
    "            "
   ]
  },
  {
   "cell_type": "code",
   "execution_count": 94,
   "id": "3ab76046",
   "metadata": {},
   "outputs": [],
   "source": [
    "class Square(Shape):\n",
    "    def __init__(self,side=1):\n",
    "        self.side=side\n",
    "    def setSide(self,new_side):\n",
    "        self.side=new_side\n",
    "    def Perimeter(self):\n",
    "        return 4*self.side\n",
    "        \n",
    "    def Area(self):\n",
    "        return self.side*self.side\n",
    "        "
   ]
  },
  {
   "cell_type": "code",
   "execution_count": 95,
   "id": "ffacc3dc",
   "metadata": {},
   "outputs": [],
   "source": [
    "class Rectangle(Shape):\n",
    "    def __init__(self,length=1,breadth=1):\n",
    "        self.length=length\n",
    "        self.breadth=breadth\n",
    "    def setlenbre(self,new_length,new_breadth):\n",
    "        self.length=new_length\n",
    "        self.breadth=new_breadth\n",
    "    def Perimeter(self):\n",
    "        return 2*(self.length+self.breadth)\n",
    "    def Area(self):\n",
    "        return self.length*self.breadth\n",
    "    "
   ]
  },
  {
   "cell_type": "code",
   "execution_count": 109,
   "id": "495c8181",
   "metadata": {},
   "outputs": [
    {
     "data": {
      "text/plain": [
       "type"
      ]
     },
     "execution_count": 109,
     "metadata": {},
     "output_type": "execute_result"
    }
   ],
   "source": [
    "r=Rectangle(4,6)\n",
    "r.Area()\n",
    "type(Rectangle)"
   ]
  },
  {
   "cell_type": "code",
   "execution_count": 98,
   "id": "54426565",
   "metadata": {},
   "outputs": [
    {
     "data": {
      "text/plain": [
       "20"
      ]
     },
     "execution_count": 98,
     "metadata": {},
     "output_type": "execute_result"
    }
   ],
   "source": [
    "r.Perimeter()"
   ]
  },
  {
   "cell_type": "code",
   "execution_count": 101,
   "id": "722f81e7",
   "metadata": {},
   "outputs": [
    {
     "data": {
      "text/plain": [
       "12.566370614359172"
      ]
     },
     "execution_count": 101,
     "metadata": {},
     "output_type": "execute_result"
    }
   ],
   "source": [
    "c=Circle(2)\n",
    "c.Perimeter()"
   ]
  },
  {
   "cell_type": "code",
   "execution_count": 102,
   "id": "91708b03",
   "metadata": {},
   "outputs": [],
   "source": [
    "s=Square(3)\n"
   ]
  },
  {
   "cell_type": "code",
   "execution_count": 103,
   "id": "75ffc8bc",
   "metadata": {},
   "outputs": [
    {
     "data": {
      "text/plain": [
       "9"
      ]
     },
     "execution_count": 103,
     "metadata": {},
     "output_type": "execute_result"
    }
   ],
   "source": [
    "s.Area()"
   ]
  },
  {
   "cell_type": "code",
   "execution_count": 104,
   "id": "816b392f",
   "metadata": {},
   "outputs": [
    {
     "data": {
      "text/plain": [
       "12"
      ]
     },
     "execution_count": 104,
     "metadata": {},
     "output_type": "execute_result"
    }
   ],
   "source": [
    "s.Perimeter()"
   ]
  },
  {
   "cell_type": "code",
   "execution_count": 105,
   "id": "4f441204",
   "metadata": {},
   "outputs": [
    {
     "name": "stdout",
     "output_type": "stream",
     "text": [
      "3.141592653589793\n",
      "6.283185307179586\n"
     ]
    }
   ],
   "source": [
    "shape = Shape()\n",
    "circle = Circle()\n",
    "print(circle.Area())\n",
    "print(circle.Perimeter())\n"
   ]
  },
  {
   "cell_type": "code",
   "execution_count": 106,
   "id": "75307dac",
   "metadata": {},
   "outputs": [
    {
     "data": {
      "text/plain": [
       "'You have not slected anything'"
      ]
     },
     "execution_count": 106,
     "metadata": {},
     "output_type": "execute_result"
    }
   ],
   "source": [
    "shape.Area()"
   ]
  },
  {
   "cell_type": "code",
   "execution_count": 107,
   "id": "c6494451",
   "metadata": {},
   "outputs": [
    {
     "data": {
      "text/plain": [
       "'You have not slected anything'"
      ]
     },
     "execution_count": 107,
     "metadata": {},
     "output_type": "execute_result"
    }
   ],
   "source": [
    "shape.Perimeter()"
   ]
  },
  {
   "cell_type": "code",
   "execution_count": 114,
   "id": "7223f73e",
   "metadata": {},
   "outputs": [
    {
     "data": {
      "text/plain": [
       "10"
      ]
     },
     "execution_count": 114,
     "metadata": {},
     "output_type": "execute_result"
    }
   ],
   "source": [
    "def __init__(self):\n",
    "    self.x=10\n",
    "    pass\n",
    "\n",
    "Try = type('Try',(object,),{'__init__':__init__})\n",
    "t=Try()\n",
    "t.x"
   ]
  },
  {
   "cell_type": "code",
   "execution_count": null,
   "id": "995f269b",
   "metadata": {},
   "outputs": [],
   "source": []
  }
 ],
 "metadata": {
  "kernelspec": {
   "display_name": "Python 3 (ipykernel)",
   "language": "python",
   "name": "python3"
  },
  "language_info": {
   "codemirror_mode": {
    "name": "ipython",
    "version": 3
   },
   "file_extension": ".py",
   "mimetype": "text/x-python",
   "name": "python",
   "nbconvert_exporter": "python",
   "pygments_lexer": "ipython3",
   "version": "3.10.2"
  }
 },
 "nbformat": 4,
 "nbformat_minor": 5
}
