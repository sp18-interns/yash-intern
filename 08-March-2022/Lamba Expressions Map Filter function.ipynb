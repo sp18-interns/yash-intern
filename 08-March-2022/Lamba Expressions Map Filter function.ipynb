{
 "cells": [
  {
   "cell_type": "code",
   "execution_count": 1,
   "id": "7e99ec5b",
   "metadata": {},
   "outputs": [],
   "source": [
    "def square(num):\n",
    "    return num**2"
   ]
  },
  {
   "cell_type": "code",
   "execution_count": 2,
   "id": "20daa069",
   "metadata": {},
   "outputs": [
    {
     "data": {
      "text/plain": [
       "144"
      ]
     },
     "execution_count": 2,
     "metadata": {},
     "output_type": "execute_result"
    }
   ],
   "source": [
    "square(12)"
   ]
  },
  {
   "cell_type": "code",
   "execution_count": 3,
   "id": "c7329c41",
   "metadata": {},
   "outputs": [
    {
     "data": {
      "text/plain": [
       "[4, 16, 36, 64, 100]"
      ]
     },
     "execution_count": 3,
     "metadata": {},
     "output_type": "execute_result"
    }
   ],
   "source": [
    "# Map function\n",
    "# key thing to note in map function is that the function which is called as parameter is treated as a variable,meaning \n",
    "# it's without it's parantheses\n",
    "nums=[2,4,6,8,10]\n",
    "list(map(square,nums))\n",
    "\n"
   ]
  },
  {
   "cell_type": "code",
   "execution_count": 5,
   "id": "08f3db1a",
   "metadata": {},
   "outputs": [
    {
     "data": {
      "text/plain": [
       "[2, 4, 6, 8, 10]"
      ]
     },
     "execution_count": 5,
     "metadata": {},
     "output_type": "execute_result"
    }
   ],
   "source": [
    "# Filter function is same as map in its syntax\n",
    "# However, it returns the list of elements which when used as arguments in the functions, returns true value\n",
    "list(filter(square,nums))"
   ]
  },
  {
   "cell_type": "markdown",
   "id": "b5f73937",
   "metadata": {},
   "source": [
    "all these numbers are iterable in the square function. to bettter understand filter() is through the foloowing example"
   ]
  },
  {
   "cell_type": "code",
   "execution_count": 6,
   "id": "9bbf5777",
   "metadata": {},
   "outputs": [],
   "source": [
    "def is_even(nums):\n",
    "    return  nums%2==0\n",
    "\n"
   ]
  },
  {
   "cell_type": "code",
   "execution_count": 8,
   "id": "a1552fac",
   "metadata": {},
   "outputs": [
    {
     "data": {
      "text/plain": [
       "False"
      ]
     },
     "execution_count": 8,
     "metadata": {},
     "output_type": "execute_result"
    }
   ],
   "source": [
    "is_even(3)"
   ]
  },
  {
   "cell_type": "code",
   "execution_count": 9,
   "id": "497b19c9",
   "metadata": {},
   "outputs": [
    {
     "data": {
      "text/plain": [
       "[2, 4, 6]"
      ]
     },
     "execution_count": 9,
     "metadata": {},
     "output_type": "execute_result"
    }
   ],
   "source": [
    "nums=[2,3,4,5,6]\n",
    "list(filter(is_even,nums))"
   ]
  },
  {
   "cell_type": "markdown",
   "id": "4a776531",
   "metadata": {},
   "source": [
    "Here, Filter clearly lists the elements which return true on is_even function"
   ]
  },
  {
   "cell_type": "code",
   "execution_count": 16,
   "id": "d8527375",
   "metadata": {},
   "outputs": [
    {
     "data": {
      "text/plain": [
       "[2, 3, 4, 5, 6]"
      ]
     },
     "execution_count": 16,
     "metadata": {},
     "output_type": "execute_result"
    }
   ],
   "source": [
    "# Lambda expression - A lambda function can take any number of arguments, but can only have one expression.\n",
    "# Syntax - lambda arguments : expression\n",
    "# Useful to use for conditions when map or filter functions are used where a function needs to be the argument\n",
    "# Instead of defining the function we can use lamba expressions to save space and clarity\n",
    "lambda nums: nums%2==0\n",
    "\n",
    "nums"
   ]
  },
  {
   "cell_type": "code",
   "execution_count": 15,
   "id": "d819abea",
   "metadata": {},
   "outputs": [
    {
     "data": {
      "text/plain": [
       "[16, 81, 256, 625, 1296]"
      ]
     },
     "execution_count": 15,
     "metadata": {},
     "output_type": "execute_result"
    }
   ],
   "source": [
    "list(map(lambda nums:nums**4,nums))\n"
   ]
  },
  {
   "cell_type": "code",
   "execution_count": 17,
   "id": "cc257fce",
   "metadata": {},
   "outputs": [
    {
     "data": {
      "text/plain": [
       "[3, 6]"
      ]
     },
     "execution_count": 17,
     "metadata": {},
     "output_type": "execute_result"
    }
   ],
   "source": [
    "list(filter(lambda nums:nums%3==0,nums))"
   ]
  },
  {
   "cell_type": "code",
   "execution_count": null,
   "id": "a09463a0",
   "metadata": {},
   "outputs": [],
   "source": []
  }
 ],
 "metadata": {
  "kernelspec": {
   "display_name": "Python 3 (ipykernel)",
   "language": "python",
   "name": "python3"
  },
  "language_info": {
   "codemirror_mode": {
    "name": "ipython",
    "version": 3
   },
   "file_extension": ".py",
   "mimetype": "text/x-python",
   "name": "python",
   "nbconvert_exporter": "python",
   "pygments_lexer": "ipython3",
   "version": "3.10.2"
  }
 },
 "nbformat": 4,
 "nbformat_minor": 5
}
