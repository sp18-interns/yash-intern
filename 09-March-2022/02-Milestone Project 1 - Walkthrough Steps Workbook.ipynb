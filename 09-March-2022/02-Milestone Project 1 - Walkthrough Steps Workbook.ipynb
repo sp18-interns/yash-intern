{
 "cells": [
  {
   "cell_type": "markdown",
   "metadata": {},
   "source": [
    "___\n",
    "\n",
    "<a href='https://www.udemy.com/user/joseportilla/'><img src='../Pierian_Data_Logo.png'/></a>\n",
    "___\n",
    "<center><em>Content Copyright by Pierian Data</em></center>"
   ]
  },
  {
   "cell_type": "markdown",
   "metadata": {},
   "source": [
    "# Milestone Project 1: Walkthrough Steps Workbook\n",
    "\n",
    "Below is a set of steps for you to follow to try to create the Tic Tac Toe Milestone Project game!"
   ]
  },
  {
   "cell_type": "markdown",
   "metadata": {},
   "source": [
    "#### Some suggested tools before you get started:\n",
    "To take input from a user:\n",
    "\n",
    "    player1 = input(\"Please pick a marker 'X' or 'O'\")\n",
    "    \n",
    "Note that input() takes in a string. If you need an integer value, use\n",
    "\n",
    "    position = int(input('Please enter a number'))\n",
    "    \n",
    "<br>To clear the screen between moves:\n",
    "\n",
    "    from IPython.display import clear_output\n",
    "    clear_output()\n",
    "    \n",
    "Note that clear_output() will only work in jupyter. To clear the screen in other IDEs, consider:\n",
    "\n",
    "    print('\\n'*100)\n",
    "    \n",
    "This scrolls the previous board up out of view. Now on to the program!"
   ]
  },
  {
   "cell_type": "markdown",
   "metadata": {},
   "source": [
    "**Step 1: Write a function that can print out a board. Set up your board as a list, where each index 1-9 corresponds with a number on a number pad, so you get a 3 by 3 board representation.**"
   ]
  },
  {
   "cell_type": "code",
   "execution_count": 76,
   "metadata": {},
   "outputs": [],
   "source": [
    "from IPython.display import clear_output\n",
    "\n",
    "def display_board(board):\n",
    "#     ch=''\n",
    "#     for x in board:\n",
    "#         ch= board[x]\n",
    "#         x+=1\n",
    "    print(f'_{board[1]}__|__{board[2]}__|__{board[3]}__')\n",
    "    print(f'_{board[4]}__|__{board[5]}__|__{board[6]}__')\n",
    "    print(f' {board[7]}  |  {board[8]}  |  {board[9]}  ')\n",
    "    "
   ]
  },
  {
   "cell_type": "markdown",
   "metadata": {},
   "source": [
    "**TEST Step 1:** run your function on a test version of the board list, and make adjustments as necessary"
   ]
  },
  {
   "cell_type": "code",
   "execution_count": 102,
   "metadata": {},
   "outputs": [
    {
     "name": "stdout",
     "output_type": "stream",
     "text": [
      "_O__|__X__|__O__\n",
      "_O__|__X__|__O__\n",
      " X  |  O  |  X  \n"
     ]
    }
   ],
   "source": [
    "test_board = ['#','O','X','O','O','X','O','X','O','X']\n",
    "display_board(test_board)"
   ]
  },
  {
   "cell_type": "markdown",
   "metadata": {},
   "source": [
    "**Step 2: Write a function that can take in a player input and assign their marker as 'X' or 'O'. Think about using *while* loops to continually ask until you get a correct answer.**"
   ]
  },
  {
   "cell_type": "code",
   "execution_count": 103,
   "metadata": {},
   "outputs": [],
   "source": [
    "from IPython.display import clear_output\n",
    "\n",
    "def player_input():\n",
    "    choice='wrong'\n",
    "    while choice not in ['X','O','x','o']:\n",
    "        choice = input('Player 1,Please pick a Marker X or O: ')\n",
    "        if choice not in ['X','O','x','o']:\n",
    "            clear_output()\n",
    "            print('You have picked a wrong choice,pick X or O ')\n",
    "    player1=choice\n",
    "    \n",
    "    if player1=='x' or player1=='X':\n",
    "        \n",
    "        player2='o'.capitalize()\n",
    "    else:\n",
    "        player2='x'.capitalize()\n",
    "        \n",
    "        \n",
    "    return (player1,player2)      "
   ]
  },
  {
   "cell_type": "markdown",
   "metadata": {},
   "source": [
    "**TEST Step 2:** run the function to make sure it returns the desired output"
   ]
  },
  {
   "cell_type": "code",
   "execution_count": 104,
   "metadata": {},
   "outputs": [
    {
     "name": "stdout",
     "output_type": "stream",
     "text": [
      "Player 1,Please pick a Marker X or O: x\n"
     ]
    }
   ],
   "source": [
    "player1, player2= player_input()"
   ]
  },
  {
   "cell_type": "code",
   "execution_count": 105,
   "metadata": {},
   "outputs": [
    {
     "data": {
      "text/plain": [
       "'x'"
      ]
     },
     "execution_count": 105,
     "metadata": {},
     "output_type": "execute_result"
    }
   ],
   "source": [
    "player1\n"
   ]
  },
  {
   "cell_type": "code",
   "execution_count": 106,
   "metadata": {},
   "outputs": [
    {
     "data": {
      "text/plain": [
       "'O'"
      ]
     },
     "execution_count": 106,
     "metadata": {},
     "output_type": "execute_result"
    }
   ],
   "source": [
    "player2"
   ]
  },
  {
   "cell_type": "markdown",
   "metadata": {},
   "source": [
    "**Step 3: Write a function that takes in the board list object, a marker ('X' or 'O'), and a desired position (number 1-9) and assigns it to the board.**"
   ]
  },
  {
   "cell_type": "code",
   "execution_count": 107,
   "metadata": {},
   "outputs": [],
   "source": [
    "from IPython.display import clear_output\n",
    "\n",
    "def place_marker(board, marker, position):\n",
    "#     position = 0\n",
    "#     marker=''\n",
    "#     board=['','']\n",
    "#     while position not in range(1,10):\n",
    "#         position= int(input('Pick the position to place your marker(from 1-9): '))\n",
    "#         if position not in range(1,10):\n",
    "#             clear_output()\n",
    "#             print('Sorry,wrong choice! Pick again(from 1-9): ')\n",
    "#     else:\n",
    "#         marker=board[position]\n",
    "           \n",
    "    \n",
    "    board[position]=marker\n",
    "      "
   ]
  },
  {
   "cell_type": "markdown",
   "metadata": {},
   "source": [
    "**TEST Step 3:** run the place marker function using test parameters and display the modified board"
   ]
  },
  {
   "cell_type": "code",
   "execution_count": 108,
   "metadata": {},
   "outputs": [
    {
     "data": {
      "text/plain": [
       "['#', 'O', 'X', 'O', 'O', 'X', 'O', 'X', 'O', 'X']"
      ]
     },
     "execution_count": 108,
     "metadata": {},
     "output_type": "execute_result"
    }
   ],
   "source": [
    "test_board"
   ]
  },
  {
   "cell_type": "code",
   "execution_count": 109,
   "metadata": {},
   "outputs": [
    {
     "name": "stdout",
     "output_type": "stream",
     "text": [
      "_O__|__X__|__O__\n",
      "_O__|__X__|__O__\n",
      " X  |  $  |  X  \n"
     ]
    }
   ],
   "source": [
    "place_marker(test_board,'$',8)\n",
    "display_board(test_board)"
   ]
  },
  {
   "cell_type": "markdown",
   "metadata": {},
   "source": [
    "**Step 4: Write a function that takes in a board and a mark (X or O) and then checks to see if that mark has won. **"
   ]
  },
  {
   "cell_type": "code",
   "execution_count": 110,
   "metadata": {},
   "outputs": [],
   "source": [
    "def win_check(board, mark):\n",
    "    display_board(board)\n",
    "    if mark=='X':\n",
    "        mark1='O'\n",
    "\n",
    "        \n",
    "    if board[1]==board[2] and board[2]==board[3]:\n",
    "        if mark==board[1]:\n",
    "            print(f'Mark {mark} won!')\n",
    "        else:\n",
    "            print(f'Mark {mark1} won!')\n",
    "    elif board[1]==board[4] and board[4]==board[7]:\n",
    "        if mark==board[1]:\n",
    "            print(f'Mark {mark} won!')\n",
    "        else:\n",
    "            print(f'Mark {mark1} won!')\n",
    "    elif board[1]==board[5] and board[5]==board[9]:\n",
    "        if mark==board[1]:\n",
    "            print(f'Mark {mark} won!')\n",
    "        else:\n",
    "            print(f'Mark {mark1} won!')\n",
    "    elif board[2]==board[5] and board[5]==board[8]:\n",
    "        if mark==board[2]:\n",
    "            print(f'Mark {mark} won!')\n",
    "        else:\n",
    "            print(f'Mark {mark1} won!')\n",
    "    elif board[3]==board[6] and board[6]==board[9]:\n",
    "        if mark==board[3]:\n",
    "            print(f'Mark {mark} won!')\n",
    "        else:\n",
    "            print(f'Mark {mark1} won!')\n",
    "    elif board[3]==board[5] and board[5]==board[7]:\n",
    "        if mark==board[3]:\n",
    "            print(f'Mark {mark} won!')\n",
    "        else:\n",
    "            print(f'Mark {mark1} won!')\n",
    "    elif board[4]==board[5] and board[5]==board[6]:\n",
    "        if mark==board[4]:\n",
    "            print(f'Mark {mark} won!')\n",
    "        else:\n",
    "            print(f'Mark {mark1} won!')\n",
    "    elif board[7]==board[8] and board[8]==board[9]:\n",
    "        if mark==board[7]:\n",
    "            print(f'Mark {mark} won!')\n",
    "        else:\n",
    "            print(f'Mark {mark1} won!')\n",
    "    else:\n",
    "        print('Match Drawn')\n",
    "        \n",
    "        "
   ]
  },
  {
   "cell_type": "markdown",
   "metadata": {},
   "source": [
    "**TEST Step 4:** run the win_check function against our test_board - it should return True"
   ]
  },
  {
   "cell_type": "code",
   "execution_count": 111,
   "metadata": {},
   "outputs": [
    {
     "name": "stdout",
     "output_type": "stream",
     "text": [
      "_O__|__X__|__O__\n",
      "_O__|__X__|__O__\n",
      " X  |  $  |  X  \n",
      "Match Drawn\n"
     ]
    }
   ],
   "source": [
    "win_check(test_board,'X')"
   ]
  },
  {
   "cell_type": "markdown",
   "metadata": {},
   "source": [
    "**Step 5: Write a function that uses the random module to randomly decide which player goes first. You may want to lookup random.randint() Return a string of which player went first.**"
   ]
  },
  {
   "cell_type": "code",
   "execution_count": 124,
   "metadata": {},
   "outputs": [],
   "source": [
    "import random\n",
    "\n",
    "def choose_first():\n",
    "    \n",
    "    return random.randint()"
   ]
  },
  {
   "cell_type": "markdown",
   "metadata": {},
   "source": [
    "**Step 6: Write a function that returns a boolean indicating whether a space on the board is freely available.**"
   ]
  },
  {
   "cell_type": "code",
   "execution_count": 151,
   "metadata": {},
   "outputs": [],
   "source": [
    "def space_check(board, position):\n",
    "    position=0\n",
    "    for position in board:\n",
    "        if board[position]==:\n",
    "            break\n",
    "    return True        "
   ]
  },
  {
   "cell_type": "markdown",
   "metadata": {},
   "source": [
    "**Step 7: Write a function that checks if the board is full and returns a boolean value. True if full, False otherwise.**"
   ]
  },
  {
   "cell_type": "code",
   "execution_count": 152,
   "metadata": {},
   "outputs": [],
   "source": [
    "def full_board_check(board):\n",
    "    return board!=' '"
   ]
  },
  {
   "cell_type": "markdown",
   "metadata": {},
   "source": [
    "**Step 8: Write a function that asks for a player's next position (as a number 1-9) and then uses the function from step 6 to check if it's a free position. If it is, then return the position for later use.**"
   ]
  },
  {
   "cell_type": "code",
   "execution_count": 153,
   "metadata": {},
   "outputs": [],
   "source": [
    "def player_choice(board):\n",
    "    choice=int(input('Choose next position: '))\n",
    "    if space_check(board,choice) is True:\n",
    "        return choice\n",
    "    else:\n",
    "        full_board_check(board)\n",
    "        print('The board is full')\n",
    "    "
   ]
  },
  {
   "cell_type": "markdown",
   "metadata": {},
   "source": [
    "**Step 9: Write a function that asks the player if they want to play again and returns a boolean True if they do want to play again.**"
   ]
  },
  {
   "cell_type": "code",
   "execution_count": 154,
   "metadata": {},
   "outputs": [],
   "source": [
    "from IPython.display import clear_output\n",
    "\n",
    "def replay():\n",
    "    choice=input('Do you want to play again?(Y/N): ')\n",
    "    while choice not in ['Y','N']:\n",
    "        clear_output()\n",
    "        print('Sorry,Enter only in Y/N')\n",
    "    if choice=='Y':\n",
    "        player_input()\n",
    "    else:\n",
    "        print('GAME OVER!')\n",
    "    \n",
    "            \n",
    "        \n",
    "        "
   ]
  },
  {
   "cell_type": "markdown",
   "metadata": {
    "collapsed": true
   },
   "source": [
    "**Step 10: Here comes the hard part! Use while loops and the functions you've made to run the game!**"
   ]
  },
  {
   "cell_type": "code",
   "execution_count": 155,
   "metadata": {},
   "outputs": [
    {
     "name": "stdout",
     "output_type": "stream",
     "text": [
      "Welcome to Tic Tac Toe!\n",
      "Player 1,Please pick a Marker X or O: O\n",
      "_ __|__ __|__ __\n",
      "_ __|__ __|__ __\n",
      "    |     |     \n",
      "Choose next position: 1\n"
     ]
    },
    {
     "ename": "TypeError",
     "evalue": "list indices must be integers or slices, not str",
     "output_type": "error",
     "traceback": [
      "\u001b[1;31m---------------------------------------------------------------------------\u001b[0m",
      "\u001b[1;31mTypeError\u001b[0m                                 Traceback (most recent call last)",
      "Input \u001b[1;32mIn [155]\u001b[0m, in \u001b[0;36m<cell line: 5>\u001b[1;34m()\u001b[0m\n\u001b[0;32m      3\u001b[0m player1, player2\u001b[38;5;241m=\u001b[39mplayer_input()\n\u001b[0;32m      4\u001b[0m display_board(test_board)\n\u001b[1;32m----> 5\u001b[0m \u001b[43mplayer_choice\u001b[49m\u001b[43m(\u001b[49m\u001b[43mtest_board\u001b[49m\u001b[43m)\u001b[49m\n\u001b[0;32m      6\u001b[0m space_check(test_board,position)\n\u001b[0;32m      7\u001b[0m place_marker(test_board,marker,position)\n",
      "Input \u001b[1;32mIn [153]\u001b[0m, in \u001b[0;36mplayer_choice\u001b[1;34m(board)\u001b[0m\n\u001b[0;32m      1\u001b[0m \u001b[38;5;28;01mdef\u001b[39;00m \u001b[38;5;21mplayer_choice\u001b[39m(board):\n\u001b[0;32m      2\u001b[0m     choice\u001b[38;5;241m=\u001b[39m\u001b[38;5;28mint\u001b[39m(\u001b[38;5;28minput\u001b[39m(\u001b[38;5;124m'\u001b[39m\u001b[38;5;124mChoose next position: \u001b[39m\u001b[38;5;124m'\u001b[39m))\n\u001b[1;32m----> 3\u001b[0m     \u001b[38;5;28;01mif\u001b[39;00m \u001b[43mspace_check\u001b[49m\u001b[43m(\u001b[49m\u001b[43mboard\u001b[49m\u001b[43m,\u001b[49m\u001b[43mchoice\u001b[49m\u001b[43m)\u001b[49m \u001b[38;5;129;01mis\u001b[39;00m \u001b[38;5;28;01mTrue\u001b[39;00m:\n\u001b[0;32m      4\u001b[0m         \u001b[38;5;28;01mreturn\u001b[39;00m choice\n\u001b[0;32m      5\u001b[0m     \u001b[38;5;28;01melse\u001b[39;00m:\n",
      "Input \u001b[1;32mIn [151]\u001b[0m, in \u001b[0;36mspace_check\u001b[1;34m(board, position)\u001b[0m\n\u001b[0;32m      2\u001b[0m position\u001b[38;5;241m=\u001b[39m\u001b[38;5;241m0\u001b[39m\n\u001b[0;32m      3\u001b[0m \u001b[38;5;28;01mfor\u001b[39;00m position \u001b[38;5;129;01min\u001b[39;00m board:\n\u001b[1;32m----> 4\u001b[0m     \u001b[38;5;28;01mif\u001b[39;00m \u001b[43mboard\u001b[49m\u001b[43m[\u001b[49m\u001b[43mposition\u001b[49m\u001b[43m]\u001b[49m\u001b[38;5;241m==\u001b[39m[\u001b[38;5;124m'\u001b[39m\u001b[38;5;124m \u001b[39m\u001b[38;5;124m'\u001b[39m]:\n\u001b[0;32m      5\u001b[0m         \u001b[38;5;28;01mbreak\u001b[39;00m\n\u001b[0;32m      6\u001b[0m \u001b[38;5;28;01mreturn\u001b[39;00m \u001b[38;5;28;01mTrue\u001b[39;00m\n",
      "\u001b[1;31mTypeError\u001b[0m: list indices must be integers or slices, not str"
     ]
    }
   ],
   "source": [
    "print('Welcome to Tic Tac Toe!')\n",
    "test_board=['#',' ',' ',' ',' ',' ',' ',' ',' ',' ']\n",
    "player1, player2=player_input()\n",
    "display_board(test_board)\n",
    "player_choice(test_board)\n",
    "space_check(test_board,position)\n",
    "place_marker(test_board,marker,position)\n",
    "full_board_check()\n",
    "replay()\n",
    "\n",
    "\n",
    "\n",
    "#while True:\n",
    "    # Set the game up here\n",
    "    #pass\n",
    "\n",
    "    #while game_on:\n",
    "        #Player 1 Turn\n",
    "        \n",
    "        \n",
    "        # Player2's turn.\n",
    "            \n",
    "            #pass\n",
    "\n",
    "    #if not replay():\n",
    "        #break\n",
    "        "
   ]
  },
  {
   "cell_type": "markdown",
   "metadata": {
    "collapsed": true
   },
   "source": [
    "## Good Job!"
   ]
  }
 ],
 "metadata": {
  "kernelspec": {
   "display_name": "Python 3 (ipykernel)",
   "language": "python",
   "name": "python3"
  },
  "language_info": {
   "codemirror_mode": {
    "name": "ipython",
    "version": 3
   },
   "file_extension": ".py",
   "mimetype": "text/x-python",
   "name": "python",
   "nbconvert_exporter": "python",
   "pygments_lexer": "ipython3",
   "version": "3.10.2"
  }
 },
 "nbformat": 4,
 "nbformat_minor": 1
}
