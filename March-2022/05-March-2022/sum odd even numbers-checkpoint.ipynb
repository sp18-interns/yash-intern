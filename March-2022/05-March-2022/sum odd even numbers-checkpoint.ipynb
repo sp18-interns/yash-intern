{
 "cells": [
  {
   "cell_type": "code",
   "execution_count": 20,
   "id": "8c92ac55",
   "metadata": {},
   "outputs": [
    {
     "name": "stdout",
     "output_type": "stream",
     "text": [
      "[1, 2, 3, 4, 5]\n",
      "[1, 2, 3, 4, 5]\n",
      "over\n",
      "[1, 2, 3, 4, 5]\n",
      "[1, 2, 3, 4, 5]\n"
     ]
    }
   ],
   "source": [
    "li=[1,2,3,4,5]\n",
    "x=0\n",
    "while li[x]<=4:\n",
    "    x=x+1\n",
    "    print(li)\n",
    "    if(x==2):\n",
    "            print('over')\n"
   ]
  },
  {
   "cell_type": "markdown",
   "id": "716e280e",
   "metadata": {},
   "source": [
    "Sum Odd Even numbers\n"
   ]
  },
  {
   "cell_type": "code",
   "execution_count": 36,
   "id": "25e46a5e",
   "metadata": {},
   "outputs": [
    {
     "name": "stdout",
     "output_type": "stream",
     "text": [
      "The sum of odd numbers is:22\n",
      "The sum of even numbers is:20\n"
     ]
    }
   ],
   "source": [
    "lis=[1,2,4,5,6,7,8,9]\n",
    "sum_odd=0\n",
    "sum_even=0\n",
    "for x in lis:\n",
    "    if (x%2==1):\n",
    "        sum_odd=sum_odd+x\n",
    "       \n",
    "    else:\n",
    "        sum_even=sum_even+x\n",
    "        \n",
    "print(f'The sum of odd numbers is:{sum_odd}')        \n",
    "print(f'The sum of even numbers is:{sum_even}')\n",
    "    \n",
    "        \n",
    "    "
   ]
  },
  {
   "cell_type": "code",
   "execution_count": null,
   "id": "a0784d82",
   "metadata": {},
   "outputs": [],
   "source": []
  }
 ],
 "metadata": {
  "kernelspec": {
   "display_name": "Python 3 (ipykernel)",
   "language": "python",
   "name": "python3"
  },
  "language_info": {
   "codemirror_mode": {
    "name": "ipython",
    "version": 3
   },
   "file_extension": ".py",
   "mimetype": "text/x-python",
   "name": "python",
   "nbconvert_exporter": "python",
   "pygments_lexer": "ipython3",
   "version": "3.10.2"
  }
 },
 "nbformat": 4,
 "nbformat_minor": 5
}
